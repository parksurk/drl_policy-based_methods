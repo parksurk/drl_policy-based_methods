{
 "cells": [
  {
   "cell_type": "markdown",
   "metadata": {},
   "source": [
    "# Solving Continuous Control Problem by DRL Policy-based Method(DDPG\n",
    "## \"Version 2: Twenty (20) Agents\"\n",
    "---\n",
    "In this notebook, we will implement a DDPG agent with Unity ML-Agents Reacher(\"Version 2: Twenty (20) Agents\") environment.\n",
    "\n",
    "### 1. Import the Necessary Packages"
   ]
  },
  {
   "cell_type": "code",
   "execution_count": 1,
   "metadata": {},
   "outputs": [],
   "source": [
    "import torch\n",
    "import random\n",
    "import numpy as np\n",
    "from collections import deque\n",
    "from ddpg_agent import Agent\n",
    "\n",
    "import matplotlib.pyplot as plt\n",
    "%matplotlib inline"
   ]
  },
  {
   "cell_type": "markdown",
   "metadata": {},
   "source": [
    "### 2. Import the Necesaary Packages to start the Environment\n",
    "\n",
    "We begin by importing some necessary packages.  If the code cell below returns an error, please revisit the project instructions to double-check that you have installed [Unity ML-Agents](https://github.com/Unity-Technologies/ml-agents/blob/master/docs/Installation.md) and [NumPy](http://www.numpy.org/)."
   ]
  },
  {
   "cell_type": "code",
   "execution_count": 2,
   "metadata": {},
   "outputs": [],
   "source": [
    "from unityagents import UnityEnvironment\n",
    "import numpy as np"
   ]
  },
  {
   "cell_type": "markdown",
   "metadata": {},
   "source": [
    "### 3. Instantiate the Environment\n",
    "Next, we will start the environment!  **_Before running the code cell below_**, change the `file_name` parameter to match the location of the Unity environment that you downloaded.\n",
    "\n",
    "- **Mac**: `\"path/to/Reacher.app\"`\n",
    "- **Windows** (x86): `\"path/to/Reacher_Windows_x86/Reacher.exe\"`\n",
    "- **Windows** (x86_64): `\"path/to/Reacher_Windows_x86_64/Reacher.exe\"`\n",
    "- **Linux** (x86): `\"path/to/Reacher_Linux/Reacher.x86\"`\n",
    "- **Linux** (x86_64): `\"path/to/Reacher_Linux/Reacher.x86_64\"`\n",
    "- **Linux** (x86, headless): `\"path/to/Reacher_Linux_NoVis/Reacher.x86\"`\n",
    "- **Linux** (x86_64, headless): `\"path/to/Reacher_Linux_NoVis/Reacher.x86_64\"`\n",
    "\n",
    "For instance, if you are using a Mac, then you downloaded `Reacher.app`(\"Version 2: Twenty (20) Agents\": I renamed it 'Reacher-20Agents.app').  If this file is in the same folder as the notebook, then the line below should appear as follows:\n",
    "```\n",
    "env = UnityEnvironment(file_name=\"Reacher-20Agents.app\")\n",
    "```"
   ]
  },
  {
   "cell_type": "code",
   "execution_count": 3,
   "metadata": {},
   "outputs": [
    {
     "name": "stderr",
     "output_type": "stream",
     "text": [
      "INFO:unityagents:\n",
      "'Academy' started successfully!\n",
      "Unity Academy name: Academy\n",
      "        Number of Brains: 1\n",
      "        Number of External Brains : 1\n",
      "        Lesson number : 0\n",
      "        Reset Parameters :\n",
      "\t\tgoal_speed -> 1.0\n",
      "\t\tgoal_size -> 5.0\n",
      "Unity brain name: ReacherBrain\n",
      "        Number of Visual Observations (per agent): 0\n",
      "        Vector Observation space type: continuous\n",
      "        Vector Observation space size (per agent): 33\n",
      "        Number of stacked Vector Observation: 1\n",
      "        Vector Action space type: continuous\n",
      "        Vector Action space size (per agent): 4\n",
      "        Vector Action descriptions: , , , \n"
     ]
    }
   ],
   "source": [
    "env = UnityEnvironment(file_name=\"Reacher-20Agents.app\")"
   ]
  },
  {
   "cell_type": "markdown",
   "metadata": {},
   "source": [
    "Environments contain **_brains_** which are responsible for deciding the actions of their associated agents. Here we check for the first brain available, and set it as the default brain we will be controlling from Python."
   ]
  },
  {
   "cell_type": "code",
   "execution_count": 4,
   "metadata": {},
   "outputs": [],
   "source": [
    "# get the default brain\n",
    "brain_name = env.brain_names[0]\n",
    "brain = env.brains[brain_name]"
   ]
  },
  {
   "cell_type": "code",
   "execution_count": 5,
   "metadata": {},
   "outputs": [
    {
     "data": {
      "text/plain": [
       "'ReacherBrain'"
      ]
     },
     "execution_count": 5,
     "metadata": {},
     "output_type": "execute_result"
    }
   ],
   "source": [
    "brain_name"
   ]
  },
  {
   "cell_type": "code",
   "execution_count": 6,
   "metadata": {},
   "outputs": [
    {
     "data": {
      "text/plain": [
       "<unityagents.brain.BrainParameters at 0x11ba440b8>"
      ]
     },
     "execution_count": 6,
     "metadata": {},
     "output_type": "execute_result"
    }
   ],
   "source": [
    "brain"
   ]
  },
  {
   "cell_type": "markdown",
   "metadata": {},
   "source": [
    "### 4. Examine the State and Action Spaces\n",
    "\n",
    "In this environment, a double-jointed arm can move to target locations. A reward of `+0.1` is provided for each step that the agent's hand is in the goal location. Thus, the goal of your agent is to maintain its position at the target location for as many time steps as possible.\n",
    "\n",
    "The observation space consists of `33` variables corresponding to position, rotation, velocity, and angular velocities of the arm.  Each action is a vector with four numbers, corresponding to torque applicable to two joints.  Every entry in the action vector must be a number between `-1` and `1`.\n",
    "\n",
    "Run the code cell below to print some information about the environment."
   ]
  },
  {
   "cell_type": "code",
   "execution_count": 7,
   "metadata": {},
   "outputs": [
    {
     "name": "stdout",
     "output_type": "stream",
     "text": [
      "Number of agents: 20\n",
      "Size of each action: 4\n",
      "There are 20 agents. Each observes a state with length: 33\n",
      "The state for the first agent looks like: [ 0.00000000e+00 -4.00000000e+00  0.00000000e+00  1.00000000e+00\n",
      " -0.00000000e+00 -0.00000000e+00 -4.37113883e-08  0.00000000e+00\n",
      "  0.00000000e+00  0.00000000e+00  0.00000000e+00  0.00000000e+00\n",
      "  0.00000000e+00  0.00000000e+00 -1.00000000e+01  0.00000000e+00\n",
      "  1.00000000e+00 -0.00000000e+00 -0.00000000e+00 -4.37113883e-08\n",
      "  0.00000000e+00  0.00000000e+00  0.00000000e+00  0.00000000e+00\n",
      "  0.00000000e+00  0.00000000e+00  5.75471878e+00 -1.00000000e+00\n",
      "  5.55726624e+00  0.00000000e+00  1.00000000e+00  0.00000000e+00\n",
      " -1.68164849e-01]\n"
     ]
    }
   ],
   "source": [
    "# reset the environment\n",
    "env_info = env.reset(train_mode=True)[brain_name]\n",
    "\n",
    "# number of agents\n",
    "num_agents = len(env_info.agents)\n",
    "print('Number of agents:', num_agents)\n",
    "\n",
    "# size of each action\n",
    "action_size = brain.vector_action_space_size\n",
    "print('Size of each action:', action_size)\n",
    "\n",
    "# examine the state space \n",
    "states = env_info.vector_observations\n",
    "state_size = states.shape[1]\n",
    "print('There are {} agents. Each observes a state with length: {}'.format(states.shape[0], state_size))\n",
    "print('The state for the first agent looks like:', states[0])"
   ]
  },
  {
   "cell_type": "markdown",
   "metadata": {},
   "source": [
    "### 5. Take Random Actions in the Environment\n",
    "\n",
    "In the next code cell, you will learn how to use the Python API to control the agent and receive feedback from the environment.\n",
    "\n",
    "Once this cell is executed, you will watch the agent's performance, if it selects an action (uniformly) at random with each time step.  A window should pop up that allows you to observe the agent, as it moves through the environment.  \n",
    "\n",
    "Of course, as part of the project, you'll have to change the code so that the agent is able to use its experience to gradually choose better actions when interacting with the environment!"
   ]
  },
  {
   "cell_type": "code",
   "execution_count": 8,
   "metadata": {},
   "outputs": [
    {
     "name": "stdout",
     "output_type": "stream",
     "text": [
      "Total score (averaged over agents) this episode: 0.08199999816715717\n"
     ]
    }
   ],
   "source": [
    "env_info = env.reset(train_mode=False)[brain_name]     # reset the environment    \n",
    "states = env_info.vector_observations                  # get the current state (for each agent)\n",
    "scores = np.zeros(num_agents)                          # initialize the score (for each agent)\n",
    "while True:\n",
    "    actions = np.random.randn(num_agents, action_size) # select an action (for each agent)\n",
    "    actions = np.clip(actions, -1, 1)                  # all actions between -1 and 1\n",
    "    env_info = env.step(actions)[brain_name]           # send all actions to tne environment\n",
    "    next_states = env_info.vector_observations         # get next state (for each agent)\n",
    "    rewards = env_info.rewards                         # get reward (for each agent)\n",
    "    dones = env_info.local_done                        # see if episode finished\n",
    "    scores += env_info.rewards                         # update the score (for each agent)\n",
    "    states = next_states                               # roll over states to next time step\n",
    "    if np.any(dones):                                  # exit loop if episode finished\n",
    "        break\n",
    "print('Total score (averaged over agents) this episode: {}'.format(np.mean(scores)))"
   ]
  },
  {
   "cell_type": "markdown",
   "metadata": {},
   "source": [
    "When finished, you can close the environment."
   ]
  },
  {
   "cell_type": "code",
   "execution_count": null,
   "metadata": {},
   "outputs": [],
   "source": [
    "env.close()"
   ]
  },
  {
   "cell_type": "markdown",
   "metadata": {},
   "source": [
    "### 6. Train our own Agent with REINFORCE\n",
    "\n",
    "Now it's our turn to train your own agent to solve the environment!  When training the environment, set `train_mode=True`, so that the line for resetting the environment looks like the following:\n",
    "```python\n",
    "env_info = env.reset(train_mode=True)[brain_name]\n",
    "```"
   ]
  },
  {
   "cell_type": "code",
   "execution_count": 9,
   "metadata": {},
   "outputs": [],
   "source": [
    "# reset the environment\n",
    "env_info = env.reset(train_mode=True)[brain_name]"
   ]
  },
  {
   "cell_type": "markdown",
   "metadata": {},
   "source": [
    "### Set the Training Parameters\n",
    "\n",
    "* num_episodes (int): maximum number of training episodes\n",
    "* episode_scores (float): list to record the scores obtained from each episode\n",
    "* scores_average_window (int): the window size employed for calculating the average score (e.g. 100)\n",
    "* solved_score (float): the average score required for the environment to be considered solved\n"
   ]
  },
  {
   "cell_type": "code",
   "execution_count": 10,
   "metadata": {},
   "outputs": [],
   "source": [
    "num_episodes=1000\n",
    "episode_scores = []\n",
    "scores_average_window = 100      \n",
    "solved_score = 30   "
   ]
  },
  {
   "cell_type": "markdown",
   "metadata": {},
   "source": [
    "Before running the next code cell, check yourself with the code in `reinforce_agent.py` and `model.py`.  Once you have an understanding of how the different files work together, \n",
    "- Check a neural network architecture in `model.py` that maps states to action values.  This file is to define our own REINFORCE Policy Model!"
   ]
  },
  {
   "cell_type": "markdown",
   "metadata": {},
   "source": [
    "### Create a DDPG Agent from the Agent Class in ddpg_agent.py\n",
    "\n",
    "A DDPG agent initialized with the following parameters.\n",
    "\n",
    "* state_size (int): dimension of each state (required)\n",
    "* action_size (int): dimension of each action (required)\n",
    "* num_agents (int): number of agents in the unity environment\n",
    "* seed (int): random seed for initializing training point (default = 0)"
   ]
  },
  {
   "cell_type": "code",
   "execution_count": 11,
   "metadata": {},
   "outputs": [],
   "source": [
    "agent = Agent(state_size=state_size, action_size=action_size, num_agents=num_agents, random_seed=0)"
   ]
  },
  {
   "cell_type": "markdown",
   "metadata": {},
   "source": [
    "### DDPG Model Architecture "
   ]
  },
  {
   "cell_type": "code",
   "execution_count": 12,
   "metadata": {},
   "outputs": [
    {
     "data": {
      "text/plain": [
       "Actor(\n",
       "  (fc1): Linear(in_features=33, out_features=400, bias=True)\n",
       "  (fc2): Linear(in_features=400, out_features=300, bias=True)\n",
       "  (fc3): Linear(in_features=300, out_features=4, bias=True)\n",
       ")"
      ]
     },
     "execution_count": 12,
     "metadata": {},
     "output_type": "execute_result"
    }
   ],
   "source": [
    "agent.actor_local"
   ]
  },
  {
   "cell_type": "code",
   "execution_count": 13,
   "metadata": {},
   "outputs": [
    {
     "data": {
      "text/plain": [
       "Actor(\n",
       "  (fc1): Linear(in_features=33, out_features=400, bias=True)\n",
       "  (fc2): Linear(in_features=400, out_features=300, bias=True)\n",
       "  (fc3): Linear(in_features=300, out_features=4, bias=True)\n",
       ")"
      ]
     },
     "execution_count": 13,
     "metadata": {},
     "output_type": "execute_result"
    }
   ],
   "source": [
    "agent.actor_target"
   ]
  },
  {
   "cell_type": "code",
   "execution_count": 14,
   "metadata": {},
   "outputs": [
    {
     "data": {
      "text/plain": [
       "Critic(\n",
       "  (fcs1): Linear(in_features=33, out_features=400, bias=True)\n",
       "  (fc2): Linear(in_features=404, out_features=300, bias=True)\n",
       "  (fc3): Linear(in_features=300, out_features=1, bias=True)\n",
       ")"
      ]
     },
     "execution_count": 14,
     "metadata": {},
     "output_type": "execute_result"
    }
   ],
   "source": [
    "agent.critic_local"
   ]
  },
  {
   "cell_type": "code",
   "execution_count": 15,
   "metadata": {},
   "outputs": [
    {
     "data": {
      "text/plain": [
       "Actor(\n",
       "  (fc1): Linear(in_features=33, out_features=400, bias=True)\n",
       "  (fc2): Linear(in_features=400, out_features=300, bias=True)\n",
       "  (fc3): Linear(in_features=300, out_features=4, bias=True)\n",
       ")"
      ]
     },
     "execution_count": 15,
     "metadata": {},
     "output_type": "execute_result"
    }
   ],
   "source": [
    "agent.actor_local"
   ]
  },
  {
   "cell_type": "markdown",
   "metadata": {},
   "source": [
    "### Chosen Hyperparamters\n",
    "* BUFFER_SIZE = int(1e5)  # replay buffer size\n",
    "* BATCH_SIZE = 128        # minibatch size\n",
    "* GAMMA = 0.99            # discount factor\n",
    "* TAU = 1e-3              # for soft update of target parameters\n",
    "* LR_ACTOR = 1e-4         # learning rate of the actor \n",
    "* LR_CRITIC = 1e-4        # learning rate of the critic\n",
    "* WEIGHT_DECAY = 0.0      # L2 weight decay"
   ]
  },
  {
   "cell_type": "markdown",
   "metadata": {},
   "source": [
    "### Train the Agent with DDPG"
   ]
  },
  {
   "cell_type": "markdown",
   "metadata": {},
   "source": [
    "Run the code cell below to train the agent from scratch."
   ]
  },
  {
   "cell_type": "code",
   "execution_count": 16,
   "metadata": {},
   "outputs": [
    {
     "name": "stdout",
     "output_type": "stream",
     "text": [
      "\n",
      "Episode 1\tEpisode Score: 0.556\tAverage Score: 0.556\n",
      "Episode 2\tEpisode Score: 0.659\tAverage Score: 0.608\n",
      "Episode 3\tEpisode Score: 0.668\tAverage Score: 0.628\n",
      "Episode 4\tEpisode Score: 1.100\tAverage Score: 0.746\n",
      "Episode 5\tEpisode Score: 1.164\tAverage Score: 0.830\n",
      "Episode 6\tEpisode Score: 0.997\tAverage Score: 0.858\n",
      "Episode 7\tEpisode Score: 1.215\tAverage Score: 0.909\n",
      "Episode 8\tEpisode Score: 1.455\tAverage Score: 0.977\n",
      "Episode 9\tEpisode Score: 2.210\tAverage Score: 1.114\n",
      "Episode 10\tEpisode Score: 2.379\tAverage Score: 1.241\n",
      "Episode 11\tEpisode Score: 4.431\tAverage Score: 1.531\n",
      "Episode 12\tEpisode Score: 5.883\tAverage Score: 1.893\n",
      "Episode 13\tEpisode Score: 5.879\tAverage Score: 2.200\n",
      "Episode 14\tEpisode Score: 9.674\tAverage Score: 2.734\n",
      "Episode 15\tEpisode Score: 9.985\tAverage Score: 3.217\n",
      "Episode 16\tEpisode Score: 11.097\tAverage Score: 3.710\n",
      "Episode 17\tEpisode Score: 14.262\tAverage Score: 4.330\n",
      "Episode 18\tEpisode Score: 16.355\tAverage Score: 4.999\n",
      "Episode 19\tEpisode Score: 24.494\tAverage Score: 6.025\n",
      "Episode 20\tEpisode Score: 27.340\tAverage Score: 7.090\n",
      "Episode 21\tEpisode Score: 31.831\tAverage Score: 8.269\n",
      "Episode 22\tEpisode Score: 36.483\tAverage Score: 9.551\n",
      "Episode 23\tEpisode Score: 37.435\tAverage Score: 10.763\n",
      "Episode 24\tEpisode Score: 38.521\tAverage Score: 11.920\n",
      "Episode 25\tEpisode Score: 39.196\tAverage Score: 13.011\n",
      "Episode 26\tEpisode Score: 39.407\tAverage Score: 14.026\n",
      "Episode 27\tEpisode Score: 39.237\tAverage Score: 14.960\n",
      "Episode 28\tEpisode Score: 39.450\tAverage Score: 15.835\n",
      "Episode 29\tEpisode Score: 39.115\tAverage Score: 16.637\n",
      "Episode 30\tEpisode Score: 39.216\tAverage Score: 17.390\n",
      "Episode 31\tEpisode Score: 39.384\tAverage Score: 18.100\n",
      "Episode 32\tEpisode Score: 39.452\tAverage Score: 18.767\n",
      "Episode 33\tEpisode Score: 39.234\tAverage Score: 19.387\n",
      "Episode 34\tEpisode Score: 39.198\tAverage Score: 19.970\n",
      "Episode 35\tEpisode Score: 39.059\tAverage Score: 20.515\n",
      "Episode 36\tEpisode Score: 39.341\tAverage Score: 21.038\n",
      "Episode 37\tEpisode Score: 39.295\tAverage Score: 21.532\n",
      "Episode 38\tEpisode Score: 39.212\tAverage Score: 21.997\n",
      "Episode 39\tEpisode Score: 39.115\tAverage Score: 22.436\n",
      "Episode 40\tEpisode Score: 38.732\tAverage Score: 22.843\n",
      "Episode 41\tEpisode Score: 38.787\tAverage Score: 23.232\n",
      "Episode 42\tEpisode Score: 38.626\tAverage Score: 23.599\n",
      "Episode 43\tEpisode Score: 38.188\tAverage Score: 23.938\n",
      "Episode 44\tEpisode Score: 38.388\tAverage Score: 24.266\n",
      "Episode 45\tEpisode Score: 37.506\tAverage Score: 24.561\n",
      "Episode 46\tEpisode Score: 38.258\tAverage Score: 24.858\n",
      "Episode 47\tEpisode Score: 38.120\tAverage Score: 25.140\n",
      "Episode 48\tEpisode Score: 39.116\tAverage Score: 25.432\n",
      "Episode 49\tEpisode Score: 39.410\tAverage Score: 25.717\n",
      "Episode 50\tEpisode Score: 39.224\tAverage Score: 25.987\n",
      "Episode 51\tEpisode Score: 39.026\tAverage Score: 26.243\n",
      "Episode 52\tEpisode Score: 36.364\tAverage Score: 26.437\n",
      "Episode 53\tEpisode Score: 38.600\tAverage Score: 26.667\n",
      "Episode 54\tEpisode Score: 37.976\tAverage Score: 26.876\n",
      "Episode 55\tEpisode Score: 36.089\tAverage Score: 27.044\n",
      "Episode 56\tEpisode Score: 36.563\tAverage Score: 27.214\n",
      "Episode 57\tEpisode Score: 37.526\tAverage Score: 27.395\n",
      "Episode 58\tEpisode Score: 37.063\tAverage Score: 27.561\n",
      "Episode 59\tEpisode Score: 38.279\tAverage Score: 27.743\n",
      "Episode 60\tEpisode Score: 38.255\tAverage Score: 27.918\n",
      "Episode 61\tEpisode Score: 38.835\tAverage Score: 28.097\n",
      "Episode 62\tEpisode Score: 38.405\tAverage Score: 28.264\n",
      "Episode 63\tEpisode Score: 38.878\tAverage Score: 28.432\n",
      "Episode 64\tEpisode Score: 38.241\tAverage Score: 28.585\n",
      "Episode 65\tEpisode Score: 38.527\tAverage Score: 28.738\n",
      "Episode 66\tEpisode Score: 39.080\tAverage Score: 28.895\n",
      "Episode 67\tEpisode Score: 37.155\tAverage Score: 29.018\n",
      "Episode 68\tEpisode Score: 37.674\tAverage Score: 29.145\n",
      "Episode 69\tEpisode Score: 38.490\tAverage Score: 29.281\n",
      "Episode 70\tEpisode Score: 38.418\tAverage Score: 29.411\n",
      "Episode 71\tEpisode Score: 36.917\tAverage Score: 29.517\n",
      "Episode 72\tEpisode Score: 38.320\tAverage Score: 29.639\n",
      "Episode 73\tEpisode Score: 38.139\tAverage Score: 29.756\n",
      "Episode 74\tEpisode Score: 38.040\tAverage Score: 29.868\n",
      "Episode 75\tEpisode Score: 36.370\tAverage Score: 29.955\n",
      "Episode 76\tEpisode Score: 35.541\tAverage Score: 30.028\n",
      "Episode 77\tEpisode Score: 37.256\tAverage Score: 30.122\n",
      "Episode 78\tEpisode Score: 38.540\tAverage Score: 30.230\n",
      "Episode 79\tEpisode Score: 38.267\tAverage Score: 30.332\n",
      "Episode 80\tEpisode Score: 37.460\tAverage Score: 30.421\n",
      "Episode 81\tEpisode Score: 36.368\tAverage Score: 30.494\n",
      "Episode 82\tEpisode Score: 36.860\tAverage Score: 30.572\n",
      "Episode 83\tEpisode Score: 37.236\tAverage Score: 30.652\n",
      "Episode 84\tEpisode Score: 37.522\tAverage Score: 30.734\n",
      "Episode 85\tEpisode Score: 37.425\tAverage Score: 30.813\n",
      "Episode 86\tEpisode Score: 37.350\tAverage Score: 30.889\n",
      "Episode 87\tEpisode Score: 38.055\tAverage Score: 30.971\n",
      "Episode 88\tEpisode Score: 36.007\tAverage Score: 31.028\n",
      "Episode 89\tEpisode Score: 38.102\tAverage Score: 31.108\n",
      "Episode 90\tEpisode Score: 38.000\tAverage Score: 31.184\n",
      "Episode 91\tEpisode Score: 38.692\tAverage Score: 31.267\n",
      "Episode 92\tEpisode Score: 37.884\tAverage Score: 31.339\n",
      "Episode 93\tEpisode Score: 38.844\tAverage Score: 31.419\n",
      "Episode 94\tEpisode Score: 39.113\tAverage Score: 31.501\n",
      "Episode 95\tEpisode Score: 38.649\tAverage Score: 31.576\n",
      "Episode 96\tEpisode Score: 38.416\tAverage Score: 31.648\n",
      "Episode 97\tEpisode Score: 38.550\tAverage Score: 31.719\n",
      "Episode 98\tEpisode Score: 37.895\tAverage Score: 31.782\n",
      "Episode 99\tEpisode Score: 36.591\tAverage Score: 31.831\n",
      "Episode 100\tEpisode Score: 38.473\tAverage Score: 31.897\n",
      "Episode 101\tEpisode Score: 38.100\tAverage Score: 32.272\n",
      "Environment solved in 101 episodes!\tAverage Score: 32.272\n"
     ]
    }
   ],
   "source": [
    "def ddpg(n_episodes=1000, print_every=100):\n",
    "    # loop from n_episodes\n",
    "    for i_episode in range(1, n_episodes+1):\n",
    "\n",
    "        # reset the unity environment at the beginning of each episode\n",
    "        env_info = env.reset(train_mode=True)[brain_name]     \n",
    "\n",
    "        # get initial state of the unity environment \n",
    "        states = env_info.vector_observations\n",
    "\n",
    "        # reset the training agent for new episode\n",
    "        agent.reset()\n",
    "\n",
    "        # set the initial episode score to zero.\n",
    "        agent_scores = np.zeros(num_agents)\n",
    "\n",
    "        # Run the episode training loop;\n",
    "        # At each loop step take an action as a function of the current state observations\n",
    "        # Based on the resultant environmental state (next_state) and reward received update the Agents Actor and Critic networks\n",
    "        # If environment episode is done, exit loop...\n",
    "        # Otherwise repeat until done == true \n",
    "        while True:\n",
    "            # determine actions for the unity agents from current sate\n",
    "            actions = agent.act(states)\n",
    "\n",
    "            # send the actions to the unity agents in the environment and receive resultant environment information\n",
    "            env_info = env.step(actions)[brain_name]        \n",
    "\n",
    "            next_states = env_info.vector_observations   # get the next states for each unity agent in the environment\n",
    "            rewards = env_info.rewards                   # get the rewards for each unity agent in the environment\n",
    "            dones = env_info.local_done                  # see if episode has finished for each unity agent in the environment\n",
    "\n",
    "            #Send (S, A, R, S') info to the training agent for replay buffer (memory) and network updates\n",
    "            agent.step(states, actions, rewards, next_states, dones)\n",
    "\n",
    "            # set new states to current states for determining next actions\n",
    "            states = next_states\n",
    "\n",
    "            # Update episode score for each unity agent\n",
    "            agent_scores += rewards\n",
    "\n",
    "            # If any unity agent indicates that the episode is done, \n",
    "            # then exit episode loop, to begin new episode\n",
    "            if np.any(dones):\n",
    "                break\n",
    "\n",
    "        # Add episode score to Scores and...\n",
    "        # Calculate mean score over last 100 episodes \n",
    "        # Mean score is calculated over current episodes until i_episode > 100\n",
    "        episode_scores.append(np.mean(agent_scores))\n",
    "        average_score = np.mean(episode_scores[i_episode-min(i_episode,scores_average_window):i_episode+1])\n",
    "\n",
    "        #Print current and average score\n",
    "        print('\\nEpisode {}\\tEpisode Score: {:.3f}\\tAverage Score: {:.3f}'.format(i_episode, episode_scores[i_episode-1], average_score), end=\"\")\n",
    "\n",
    "        # Save trained  Actor and Critic network weights after each episode\n",
    "        an_filename = \"checkpoint_actor.pth\"\n",
    "        torch.save(agent.actor_local.state_dict(), an_filename)\n",
    "        cn_filename = \"checkpoint_critic.pth\"\n",
    "        torch.save(agent.critic_local.state_dict(), cn_filename)\n",
    "\n",
    "        # Check to see if the task is solved (i.e,. avearge_score > solved_score over 100 episodes). \n",
    "        # If yes, save the network weights and scores and end training.\n",
    "        if i_episode > 100 and average_score >= solved_score:\n",
    "            print('\\nEnvironment solved in {:d} episodes!\\tAverage Score: {:.3f}'.format(i_episode, average_score))\n",
    "            break\n",
    "    return episode_scores\n",
    "\n",
    "scores = ddpg(n_episodes=num_episodes)"
   ]
  },
  {
   "cell_type": "markdown",
   "metadata": {},
   "source": [
    "### Plot the Scores"
   ]
  },
  {
   "cell_type": "code",
   "execution_count": null,
   "metadata": {},
   "outputs": [],
   "source": [
    "fig = plt.figure()\n",
    "ax = fig.add_subplot(111)\n",
    "plt.plot(np.arange(1, len(scores)+1), scores)\n",
    "plt.ylabel('Score')\n",
    "plt.xlabel('Episode #')\n",
    "plt.show()"
   ]
  },
  {
   "cell_type": "markdown",
   "metadata": {},
   "source": [
    "### 7. Watch the DDPG Agent!\n",
    "\n",
    "In the next code cell, you will load the trained weights from file to watch a the vanilla DDPG Agent!"
   ]
  },
  {
   "cell_type": "code",
   "execution_count": 16,
   "metadata": {},
   "outputs": [],
   "source": [
    "# load the weights from file\n",
    "agent.actor_local.load_state_dict(torch.load('checkpoint_actor.pth'))\n",
    "agent.critic_local.load_state_dict(torch.load('checkpoint_critic.pth'))\n",
    "\n",
    "for i_episode in range(1, num_episodes+1):\n",
    "\n",
    "    # reset the unity environment at the beginning of each episode\n",
    "    # set train mode to false\n",
    "    env_info = env.reset(train_mode=False)[brain_name]     \n",
    "\n",
    "    # get initial state of the unity environment \n",
    "    states = env_info.vector_observations\n",
    "\n",
    "    # reset the training agent for new episode\n",
    "    agent.reset()\n",
    "\n",
    "    # set the initial episode scores to zero for each unity agent.\n",
    "    scores = np.zeros(num_agents)\n",
    "\n",
    "    # Run the episode loop;\n",
    "    # At each loop step take an action as a function of the current state observations\n",
    "    # If environment episode is done, exit loop...\n",
    "    # Otherwise repeat until done == true \n",
    "    while True:\n",
    "        # determine actions for the unity agents from current sate\n",
    "        actions = agent.act(states)\n",
    "\n",
    "        # send the actions to the unity agents in the environment and receive resultant environment information\n",
    "        env_info = env.step(actions)[brain_name]        \n",
    "\n",
    "        next_states = env_info.vector_observations   # get the next states for each unity agent in the environment\n",
    "        rewards = env_info.rewards                   # get the rewards for each unity agent in the environment\n",
    "        dones = env_info.local_done                  # see if episode has finished for each unity agent in the environment\n",
    "\n",
    "        # set new states to current states for determining next actions\n",
    "        states = next_states\n",
    "\n",
    "        # Update episode score for each unity agent\n",
    "        scores += rewards\n",
    "\n",
    "        # If any unity agent indicates that the episode is done, \n",
    "        # then exit episode loop, to begin new episode\n",
    "        if np.any(dones):\n",
    "            break\n",
    "\n",
    "    # Print current average score\n",
    "    print('\\nEpisode {}\\tAverage Score: {:.2f}'.format(i_episode, np.mean(scores), end=\"\"))"
   ]
  },
  {
   "cell_type": "code",
   "execution_count": null,
   "metadata": {},
   "outputs": [],
   "source": [
    "env.close()"
   ]
  },
  {
   "cell_type": "markdown",
   "metadata": {},
   "source": [
    "## Future Work\n",
    "\n",
    "### 1. Explore the current DDPG Algorithm\n",
    "\n",
    "    * Amend the various hyperparameters and network architecture to see if we can get your agent to solve the environment faster. \n",
    "    * Once we build intuition for the hyperparameters that work well with this environment, try solving a different Unity ML-Agents task like [Crawler](https://github.com/Unity-Technologies/ml-agents/blob/master/docs/Learning-Environment-Examples.md#crawler).\n",
    "\n",
    "### 2. Explore the other PG Algorithm\n",
    "    * We are interested in implementing a method that will be more stable with this project, so we will explore [this paper \"Benchmarking Deep Reinforcement Learning for Continuous Control\"](https://arxiv.org/abs/1604.06778)\n",
    "    * We would like to implement some improvements such as ...\n",
    "        - [Trust Region Policy Optimization (TRPO)](https://arxiv.org/abs/1502.05477)\n",
    "        - Truncated Natural Policy Gradient (TNPG)\n",
    "        - [Proximal Policy Optimization (PPO)](https://blog.openai.com/openai-baselines-ppo/)\n",
    "        - [Distributed Distributional Deterministic Policy Gradients (D4PG) ](https://arxiv.org/abs/1602.01783)\n",
    "\n",
    "![Performance Comparison](assets/benchmark-DRL-ContinousControl.png)"
   ]
  },
  {
   "cell_type": "code",
   "execution_count": null,
   "metadata": {},
   "outputs": [],
   "source": []
  }
 ],
 "metadata": {
  "kernelspec": {
   "display_name": "Python 3",
   "language": "python",
   "name": "python3"
  },
  "language_info": {
   "codemirror_mode": {
    "name": "ipython",
    "version": 3
   },
   "file_extension": ".py",
   "mimetype": "text/x-python",
   "name": "python",
   "nbconvert_exporter": "python",
   "pygments_lexer": "ipython3",
   "version": "3.6.7"
  }
 },
 "nbformat": 4,
 "nbformat_minor": 2
}

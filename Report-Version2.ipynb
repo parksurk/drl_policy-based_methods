{
 "cells": [
  {
   "cell_type": "markdown",
   "metadata": {},
   "source": [
    "# Solving Continuous Control Problem by DRL Policy-based Method(DDPG\n",
    "## \"Version 2: Twenty (20) Agents\"\n",
    "---\n",
    "In this notebook, we will implement a DDPG agent with Unity ML-Agents Reacher(\"Version 2: Twenty (20) Agents\") environment.\n",
    "\n",
    "### 1. Import the Necessary Packages"
   ]
  },
  {
   "cell_type": "code",
   "execution_count": 1,
   "metadata": {},
   "outputs": [],
   "source": [
    "import torch\n",
    "import random\n",
    "import numpy as np\n",
    "from collections import deque\n",
    "from ddpg_agent import Agent\n",
    "\n",
    "import matplotlib.pyplot as plt\n",
    "%matplotlib inline"
   ]
  },
  {
   "cell_type": "markdown",
   "metadata": {},
   "source": [
    "### 2. Import the Necesaary Packages to start the Environment\n",
    "\n",
    "We begin by importing some necessary packages.  If the code cell below returns an error, please revisit the project instructions to double-check that you have installed [Unity ML-Agents](https://github.com/Unity-Technologies/ml-agents/blob/master/docs/Installation.md) and [NumPy](http://www.numpy.org/)."
   ]
  },
  {
   "cell_type": "code",
   "execution_count": 2,
   "metadata": {},
   "outputs": [],
   "source": [
    "from unityagents import UnityEnvironment\n",
    "import numpy as np"
   ]
  },
  {
   "cell_type": "markdown",
   "metadata": {},
   "source": [
    "### 3. Instantiate the Environment\n",
    "Next, we will start the environment!  **_Before running the code cell below_**, change the `file_name` parameter to match the location of the Unity environment that you downloaded.\n",
    "\n",
    "- **Mac**: `\"path/to/Reacher.app\"`\n",
    "- **Windows** (x86): `\"path/to/Reacher_Windows_x86/Reacher.exe\"`\n",
    "- **Windows** (x86_64): `\"path/to/Reacher_Windows_x86_64/Reacher.exe\"`\n",
    "- **Linux** (x86): `\"path/to/Reacher_Linux/Reacher.x86\"`\n",
    "- **Linux** (x86_64): `\"path/to/Reacher_Linux/Reacher.x86_64\"`\n",
    "- **Linux** (x86, headless): `\"path/to/Reacher_Linux_NoVis/Reacher.x86\"`\n",
    "- **Linux** (x86_64, headless): `\"path/to/Reacher_Linux_NoVis/Reacher.x86_64\"`\n",
    "\n",
    "For instance, if you are using a Mac, then you downloaded `Reacher.app`(\"Version 2: Twenty (20) Agents\": I renamed it 'Reacher-20Agents.app').  If this file is in the same folder as the notebook, then the line below should appear as follows:\n",
    "```\n",
    "env = UnityEnvironment(file_name=\"Reacher-20Agents.app\")\n",
    "```"
   ]
  },
  {
   "cell_type": "code",
   "execution_count": 3,
   "metadata": {},
   "outputs": [
    {
     "ename": "UnityTimeOutException",
     "evalue": "The Unity environment took too long to respond. Make sure that :\n\t The environment does not need user interaction to launch\n\t The Academy and the External Brain(s) are attached to objects in the Scene\n\t The environment and the Python interface have compatible versions.",
     "output_type": "error",
     "traceback": [
      "\u001b[0;31m---------------------------------------------------------------------------\u001b[0m",
      "\u001b[0;31mUnityTimeOutException\u001b[0m                     Traceback (most recent call last)",
      "\u001b[0;32m<ipython-input-3-4454f0b26f17>\u001b[0m in \u001b[0;36m<module>\u001b[0;34m\u001b[0m\n\u001b[0;32m----> 1\u001b[0;31m \u001b[0menv\u001b[0m \u001b[0;34m=\u001b[0m \u001b[0mUnityEnvironment\u001b[0m\u001b[0;34m(\u001b[0m\u001b[0mfile_name\u001b[0m\u001b[0;34m=\u001b[0m\u001b[0;34m\"Reacher-20Agents.app\"\u001b[0m\u001b[0;34m)\u001b[0m\u001b[0;34m\u001b[0m\u001b[0;34m\u001b[0m\u001b[0m\n\u001b[0m",
      "\u001b[0;32m~/miniconda3/envs/drlnd/lib/python3.6/site-packages/unityagents/environment.py\u001b[0m in \u001b[0;36m__init__\u001b[0;34m(self, file_name, worker_id, base_port, curriculum, seed, docker_training, no_graphics)\u001b[0m\n\u001b[1;32m     62\u001b[0m         )\n\u001b[1;32m     63\u001b[0m         \u001b[0;32mtry\u001b[0m\u001b[0;34m:\u001b[0m\u001b[0;34m\u001b[0m\u001b[0;34m\u001b[0m\u001b[0m\n\u001b[0;32m---> 64\u001b[0;31m             \u001b[0maca_params\u001b[0m \u001b[0;34m=\u001b[0m \u001b[0mself\u001b[0m\u001b[0;34m.\u001b[0m\u001b[0msend_academy_parameters\u001b[0m\u001b[0;34m(\u001b[0m\u001b[0mrl_init_parameters_in\u001b[0m\u001b[0;34m)\u001b[0m\u001b[0;34m\u001b[0m\u001b[0;34m\u001b[0m\u001b[0m\n\u001b[0m\u001b[1;32m     65\u001b[0m         \u001b[0;32mexcept\u001b[0m \u001b[0mUnityTimeOutException\u001b[0m\u001b[0;34m:\u001b[0m\u001b[0;34m\u001b[0m\u001b[0;34m\u001b[0m\u001b[0m\n\u001b[1;32m     66\u001b[0m             \u001b[0mself\u001b[0m\u001b[0;34m.\u001b[0m\u001b[0m_close\u001b[0m\u001b[0;34m(\u001b[0m\u001b[0;34m)\u001b[0m\u001b[0;34m\u001b[0m\u001b[0;34m\u001b[0m\u001b[0m\n",
      "\u001b[0;32m~/miniconda3/envs/drlnd/lib/python3.6/site-packages/unityagents/environment.py\u001b[0m in \u001b[0;36msend_academy_parameters\u001b[0;34m(self, init_parameters)\u001b[0m\n\u001b[1;32m    503\u001b[0m         \u001b[0minputs\u001b[0m \u001b[0;34m=\u001b[0m \u001b[0mUnityInput\u001b[0m\u001b[0;34m(\u001b[0m\u001b[0;34m)\u001b[0m\u001b[0;34m\u001b[0m\u001b[0;34m\u001b[0m\u001b[0m\n\u001b[1;32m    504\u001b[0m         \u001b[0minputs\u001b[0m\u001b[0;34m.\u001b[0m\u001b[0mrl_initialization_input\u001b[0m\u001b[0;34m.\u001b[0m\u001b[0mCopyFrom\u001b[0m\u001b[0;34m(\u001b[0m\u001b[0minit_parameters\u001b[0m\u001b[0;34m)\u001b[0m\u001b[0;34m\u001b[0m\u001b[0;34m\u001b[0m\u001b[0m\n\u001b[0;32m--> 505\u001b[0;31m         \u001b[0;32mreturn\u001b[0m \u001b[0mself\u001b[0m\u001b[0;34m.\u001b[0m\u001b[0mcommunicator\u001b[0m\u001b[0;34m.\u001b[0m\u001b[0minitialize\u001b[0m\u001b[0;34m(\u001b[0m\u001b[0minputs\u001b[0m\u001b[0;34m)\u001b[0m\u001b[0;34m.\u001b[0m\u001b[0mrl_initialization_output\u001b[0m\u001b[0;34m\u001b[0m\u001b[0;34m\u001b[0m\u001b[0m\n\u001b[0m\u001b[1;32m    506\u001b[0m \u001b[0;34m\u001b[0m\u001b[0m\n\u001b[1;32m    507\u001b[0m     \u001b[0;32mdef\u001b[0m \u001b[0mwrap_unity_input\u001b[0m\u001b[0;34m(\u001b[0m\u001b[0mself\u001b[0m\u001b[0;34m,\u001b[0m \u001b[0mrl_input\u001b[0m\u001b[0;34m:\u001b[0m \u001b[0mUnityRLInput\u001b[0m\u001b[0;34m)\u001b[0m \u001b[0;34m->\u001b[0m \u001b[0mUnityOutput\u001b[0m\u001b[0;34m:\u001b[0m\u001b[0;34m\u001b[0m\u001b[0;34m\u001b[0m\u001b[0m\n",
      "\u001b[0;32m~/miniconda3/envs/drlnd/lib/python3.6/site-packages/unityagents/rpc_communicator.py\u001b[0m in \u001b[0;36minitialize\u001b[0;34m(self, inputs)\u001b[0m\n\u001b[1;32m     58\u001b[0m         \u001b[0;32mif\u001b[0m \u001b[0;32mnot\u001b[0m \u001b[0mself\u001b[0m\u001b[0;34m.\u001b[0m\u001b[0munity_to_external\u001b[0m\u001b[0;34m.\u001b[0m\u001b[0mparent_conn\u001b[0m\u001b[0;34m.\u001b[0m\u001b[0mpoll\u001b[0m\u001b[0;34m(\u001b[0m\u001b[0;36m30\u001b[0m\u001b[0;34m)\u001b[0m\u001b[0;34m:\u001b[0m\u001b[0;34m\u001b[0m\u001b[0;34m\u001b[0m\u001b[0m\n\u001b[1;32m     59\u001b[0m             raise UnityTimeOutException(\n\u001b[0;32m---> 60\u001b[0;31m                 \u001b[0;34m\"The Unity environment took too long to respond. Make sure that :\\n\"\u001b[0m\u001b[0;34m\u001b[0m\u001b[0;34m\u001b[0m\u001b[0m\n\u001b[0m\u001b[1;32m     61\u001b[0m                 \u001b[0;34m\"\\t The environment does not need user interaction to launch\\n\"\u001b[0m\u001b[0;34m\u001b[0m\u001b[0;34m\u001b[0m\u001b[0m\n\u001b[1;32m     62\u001b[0m                 \u001b[0;34m\"\\t The Academy and the External Brain(s) are attached to objects in the Scene\\n\"\u001b[0m\u001b[0;34m\u001b[0m\u001b[0;34m\u001b[0m\u001b[0m\n",
      "\u001b[0;31mUnityTimeOutException\u001b[0m: The Unity environment took too long to respond. Make sure that :\n\t The environment does not need user interaction to launch\n\t The Academy and the External Brain(s) are attached to objects in the Scene\n\t The environment and the Python interface have compatible versions."
     ]
    }
   ],
   "source": [
    "env = UnityEnvironment(file_name=\"Reacher-20Agents.app\")"
   ]
  },
  {
   "cell_type": "markdown",
   "metadata": {},
   "source": [
    "Environments contain **_brains_** which are responsible for deciding the actions of their associated agents. Here we check for the first brain available, and set it as the default brain we will be controlling from Python."
   ]
  },
  {
   "cell_type": "code",
   "execution_count": 4,
   "metadata": {},
   "outputs": [],
   "source": [
    "# get the default brain\n",
    "brain_name = env.brain_names[0]\n",
    "brain = env.brains[brain_name]"
   ]
  },
  {
   "cell_type": "code",
   "execution_count": 5,
   "metadata": {},
   "outputs": [
    {
     "data": {
      "text/plain": [
       "'ReacherBrain'"
      ]
     },
     "execution_count": 5,
     "metadata": {},
     "output_type": "execute_result"
    }
   ],
   "source": [
    "brain_name"
   ]
  },
  {
   "cell_type": "code",
   "execution_count": 6,
   "metadata": {},
   "outputs": [
    {
     "data": {
      "text/plain": [
       "<unityagents.brain.BrainParameters at 0x11b01d160>"
      ]
     },
     "execution_count": 6,
     "metadata": {},
     "output_type": "execute_result"
    }
   ],
   "source": [
    "brain"
   ]
  },
  {
   "cell_type": "markdown",
   "metadata": {},
   "source": [
    "### 4. Examine the State and Action Spaces\n",
    "\n",
    "In this environment, a double-jointed arm can move to target locations. A reward of `+0.1` is provided for each step that the agent's hand is in the goal location. Thus, the goal of your agent is to maintain its position at the target location for as many time steps as possible.\n",
    "\n",
    "The observation space consists of `33` variables corresponding to position, rotation, velocity, and angular velocities of the arm.  Each action is a vector with four numbers, corresponding to torque applicable to two joints.  Every entry in the action vector must be a number between `-1` and `1`.\n",
    "\n",
    "Run the code cell below to print some information about the environment."
   ]
  },
  {
   "cell_type": "code",
   "execution_count": 7,
   "metadata": {},
   "outputs": [
    {
     "name": "stdout",
     "output_type": "stream",
     "text": [
      "Number of agents: 1\n",
      "Size of each action: 4\n",
      "There are 1 agents. Each observes a state with length: 33\n",
      "The state for the first agent looks like: [ 0.00000000e+00 -4.00000000e+00  0.00000000e+00  1.00000000e+00\n",
      " -0.00000000e+00 -0.00000000e+00 -4.37113883e-08  0.00000000e+00\n",
      "  0.00000000e+00  0.00000000e+00  0.00000000e+00  0.00000000e+00\n",
      "  0.00000000e+00  0.00000000e+00 -1.00000000e+01  0.00000000e+00\n",
      "  1.00000000e+00 -0.00000000e+00 -0.00000000e+00 -4.37113883e-08\n",
      "  0.00000000e+00  0.00000000e+00  0.00000000e+00  0.00000000e+00\n",
      "  0.00000000e+00  0.00000000e+00  5.75471878e+00 -1.00000000e+00\n",
      "  5.55726671e+00  0.00000000e+00  1.00000000e+00  0.00000000e+00\n",
      " -1.68164849e-01]\n"
     ]
    }
   ],
   "source": [
    "# reset the environment\n",
    "env_info = env.reset(train_mode=True)[brain_name]\n",
    "\n",
    "# number of agents\n",
    "num_agents = len(env_info.agents)\n",
    "print('Number of agents:', num_agents)\n",
    "\n",
    "# size of each action\n",
    "action_size = brain.vector_action_space_size\n",
    "print('Size of each action:', action_size)\n",
    "\n",
    "# examine the state space \n",
    "states = env_info.vector_observations\n",
    "state_size = states.shape[1]\n",
    "print('There are {} agents. Each observes a state with length: {}'.format(states.shape[0], state_size))\n",
    "print('The state for the first agent looks like:', states[0])"
   ]
  },
  {
   "cell_type": "markdown",
   "metadata": {},
   "source": [
    "### 5. Take Random Actions in the Environment\n",
    "\n",
    "In the next code cell, you will learn how to use the Python API to control the agent and receive feedback from the environment.\n",
    "\n",
    "Once this cell is executed, you will watch the agent's performance, if it selects an action (uniformly) at random with each time step.  A window should pop up that allows you to observe the agent, as it moves through the environment.  \n",
    "\n",
    "Of course, as part of the project, you'll have to change the code so that the agent is able to use its experience to gradually choose better actions when interacting with the environment!"
   ]
  },
  {
   "cell_type": "code",
   "execution_count": 8,
   "metadata": {},
   "outputs": [
    {
     "name": "stdout",
     "output_type": "stream",
     "text": [
      "Total score (averaged over agents) this episode: 0.0\n"
     ]
    }
   ],
   "source": [
    "env_info = env.reset(train_mode=False)[brain_name]     # reset the environment    \n",
    "states = env_info.vector_observations                  # get the current state (for each agent)\n",
    "scores = np.zeros(num_agents)                          # initialize the score (for each agent)\n",
    "while True:\n",
    "    actions = np.random.randn(num_agents, action_size) # select an action (for each agent)\n",
    "    actions = np.clip(actions, -1, 1)                  # all actions between -1 and 1\n",
    "    env_info = env.step(actions)[brain_name]           # send all actions to tne environment\n",
    "    next_states = env_info.vector_observations         # get next state (for each agent)\n",
    "    rewards = env_info.rewards                         # get reward (for each agent)\n",
    "    dones = env_info.local_done                        # see if episode finished\n",
    "    scores += env_info.rewards                         # update the score (for each agent)\n",
    "    states = next_states                               # roll over states to next time step\n",
    "    if np.any(dones):                                  # exit loop if episode finished\n",
    "        break\n",
    "print('Total score (averaged over agents) this episode: {}'.format(np.mean(scores)))"
   ]
  },
  {
   "cell_type": "markdown",
   "metadata": {},
   "source": [
    "When finished, you can close the environment."
   ]
  },
  {
   "cell_type": "code",
   "execution_count": null,
   "metadata": {},
   "outputs": [],
   "source": [
    "env.close()"
   ]
  },
  {
   "cell_type": "markdown",
   "metadata": {},
   "source": [
    "### 6. Train our own Agent with REINFORCE\n",
    "\n",
    "Now it's our turn to train your own agent to solve the environment!  When training the environment, set `train_mode=True`, so that the line for resetting the environment looks like the following:\n",
    "```python\n",
    "env_info = env.reset(train_mode=True)[brain_name]\n",
    "```"
   ]
  },
  {
   "cell_type": "code",
   "execution_count": 9,
   "metadata": {},
   "outputs": [],
   "source": [
    "# reset the environment\n",
    "env_info = env.reset(train_mode=True)[brain_name]"
   ]
  },
  {
   "cell_type": "markdown",
   "metadata": {},
   "source": [
    "### Set the Training Parameters\n",
    "\n",
    "* num_episodes (int): maximum number of training episodes\n",
    "* episode_scores (float): list to record the scores obtained from each episode\n",
    "* scores_average_window (int): the window size employed for calculating the average score (e.g. 100)\n",
    "* solved_score (float): the average score required for the environment to be considered solved\n"
   ]
  },
  {
   "cell_type": "code",
   "execution_count": 17,
   "metadata": {},
   "outputs": [],
   "source": [
    "num_episodes=1000\n",
    "episode_scores = []\n",
    "scores_average_window = 100      \n",
    "solved_score = 30   "
   ]
  },
  {
   "cell_type": "markdown",
   "metadata": {},
   "source": [
    "Before running the next code cell, check yourself with the code in `reinforce_agent.py` and `model.py`.  Once you have an understanding of how the different files work together, \n",
    "- Check a neural network architecture in `model.py` that maps states to action values.  This file is to define our own REINFORCE Policy Model!"
   ]
  },
  {
   "cell_type": "markdown",
   "metadata": {},
   "source": [
    "### Create a DDPG Agent from the Agent Class in ddpg_agent.py\n",
    "\n",
    "A DDPG agent initialized with the following parameters.\n",
    "\n",
    "* state_size (int): dimension of each state (required)\n",
    "* action_size (int): dimension of each action (required)\n",
    "* num_agents (int): number of agents in the unity environment\n",
    "* seed (int): random seed for initializing training point (default = 0)"
   ]
  },
  {
   "cell_type": "code",
   "execution_count": 9,
   "metadata": {},
   "outputs": [],
   "source": [
    "agent = Agent(state_size=state_size, action_size=action_size, num_agents=num_agents, random_seed=0)"
   ]
  },
  {
   "cell_type": "markdown",
   "metadata": {},
   "source": [
    "### DDPG Model Architecture "
   ]
  },
  {
   "cell_type": "code",
   "execution_count": 10,
   "metadata": {},
   "outputs": [
    {
     "data": {
      "text/plain": [
       "Actor(\n",
       "  (fc1): Linear(in_features=33, out_features=400, bias=True)\n",
       "  (fc2): Linear(in_features=400, out_features=300, bias=True)\n",
       "  (fc3): Linear(in_features=300, out_features=4, bias=True)\n",
       ")"
      ]
     },
     "execution_count": 10,
     "metadata": {},
     "output_type": "execute_result"
    }
   ],
   "source": [
    "agent.actor_local"
   ]
  },
  {
   "cell_type": "code",
   "execution_count": 11,
   "metadata": {},
   "outputs": [
    {
     "data": {
      "text/plain": [
       "Actor(\n",
       "  (fc1): Linear(in_features=33, out_features=400, bias=True)\n",
       "  (fc2): Linear(in_features=400, out_features=300, bias=True)\n",
       "  (fc3): Linear(in_features=300, out_features=4, bias=True)\n",
       ")"
      ]
     },
     "execution_count": 11,
     "metadata": {},
     "output_type": "execute_result"
    }
   ],
   "source": [
    "agent.actor_target"
   ]
  },
  {
   "cell_type": "code",
   "execution_count": 12,
   "metadata": {},
   "outputs": [
    {
     "data": {
      "text/plain": [
       "Critic(\n",
       "  (fcs1): Linear(in_features=33, out_features=400, bias=True)\n",
       "  (fc2): Linear(in_features=404, out_features=300, bias=True)\n",
       "  (fc3): Linear(in_features=300, out_features=1, bias=True)\n",
       ")"
      ]
     },
     "execution_count": 12,
     "metadata": {},
     "output_type": "execute_result"
    }
   ],
   "source": [
    "agent.critic_local"
   ]
  },
  {
   "cell_type": "code",
   "execution_count": 14,
   "metadata": {},
   "outputs": [
    {
     "data": {
      "text/plain": [
       "Actor(\n",
       "  (fc1): Linear(in_features=33, out_features=400, bias=True)\n",
       "  (fc2): Linear(in_features=400, out_features=300, bias=True)\n",
       "  (fc3): Linear(in_features=300, out_features=4, bias=True)\n",
       ")"
      ]
     },
     "execution_count": 14,
     "metadata": {},
     "output_type": "execute_result"
    }
   ],
   "source": [
    "agent.actor_local"
   ]
  },
  {
   "cell_type": "markdown",
   "metadata": {},
   "source": [
    "### Chosen Hyperparamters\n",
    "* BUFFER_SIZE = int(1e5)  # replay buffer size\n",
    "* BATCH_SIZE = 128        # minibatch size\n",
    "* GAMMA = 0.99            # discount factor\n",
    "* TAU = 1e-3              # for soft update of target parameters\n",
    "* LR_ACTOR = 1e-4         # learning rate of the actor \n",
    "* LR_CRITIC = 1e-4        # learning rate of the critic\n",
    "* WEIGHT_DECAY = 0.0      # L2 weight decay"
   ]
  },
  {
   "cell_type": "markdown",
   "metadata": {},
   "source": [
    "### Train the Agent with DDPG"
   ]
  },
  {
   "cell_type": "markdown",
   "metadata": {},
   "source": [
    "Run the code cell below to train the agent from scratch."
   ]
  },
  {
   "cell_type": "code",
   "execution_count": null,
   "metadata": {},
   "outputs": [
    {
     "name": "stdout",
     "output_type": "stream",
     "text": [
      "\n",
      "Episode 1\tEpisode Score: 0.070\tAverage Score: 0.070\n",
      "Episode 2\tEpisode Score: 1.010\tAverage Score: 0.540\n",
      "Episode 3\tEpisode Score: 1.330\tAverage Score: 0.803\n",
      "Episode 4\tEpisode Score: 0.720\tAverage Score: 0.782\n",
      "Episode 5\tEpisode Score: 0.000\tAverage Score: 0.626\n",
      "Episode 6\tEpisode Score: 1.560\tAverage Score: 0.782\n",
      "Episode 7\tEpisode Score: 0.530\tAverage Score: 0.746\n",
      "Episode 8\tEpisode Score: 0.180\tAverage Score: 0.675\n",
      "Episode 9\tEpisode Score: 0.410\tAverage Score: 0.646\n",
      "Episode 10\tEpisode Score: 0.410\tAverage Score: 0.622\n",
      "Episode 11\tEpisode Score: 1.250\tAverage Score: 0.679\n",
      "Episode 12\tEpisode Score: 0.830\tAverage Score: 0.692\n",
      "Episode 13\tEpisode Score: 2.090\tAverage Score: 0.799\n",
      "Episode 14\tEpisode Score: 0.440\tAverage Score: 0.774\n",
      "Episode 15\tEpisode Score: 3.040\tAverage Score: 0.925\n",
      "Episode 16\tEpisode Score: 1.620\tAverage Score: 0.968\n",
      "Episode 17\tEpisode Score: 1.920\tAverage Score: 1.024\n",
      "Episode 18\tEpisode Score: 2.380\tAverage Score: 1.099\n",
      "Episode 19\tEpisode Score: 4.180\tAverage Score: 1.262\n",
      "Episode 20\tEpisode Score: 1.780\tAverage Score: 1.287\n",
      "Episode 21\tEpisode Score: 2.630\tAverage Score: 1.351\n",
      "Episode 22\tEpisode Score: 3.090\tAverage Score: 1.430\n",
      "Episode 23\tEpisode Score: 3.030\tAverage Score: 1.500\n",
      "Episode 24\tEpisode Score: 1.520\tAverage Score: 1.501\n",
      "Episode 25\tEpisode Score: 5.050\tAverage Score: 1.643\n",
      "Episode 26\tEpisode Score: 1.370\tAverage Score: 1.632\n",
      "Episode 27\tEpisode Score: 2.850\tAverage Score: 1.677\n",
      "Episode 28\tEpisode Score: 2.240\tAverage Score: 1.697\n",
      "Episode 29\tEpisode Score: 1.380\tAverage Score: 1.687\n",
      "Episode 30\tEpisode Score: 1.790\tAverage Score: 1.690\n",
      "Episode 31\tEpisode Score: 2.720\tAverage Score: 1.723\n",
      "Episode 32\tEpisode Score: 0.680\tAverage Score: 1.691\n",
      "Episode 33\tEpisode Score: 3.580\tAverage Score: 1.748\n",
      "Episode 34\tEpisode Score: 1.970\tAverage Score: 1.754\n",
      "Episode 35\tEpisode Score: 4.280\tAverage Score: 1.827\n",
      "Episode 36\tEpisode Score: 1.970\tAverage Score: 1.831\n",
      "Episode 37\tEpisode Score: 7.600\tAverage Score: 1.986\n",
      "Episode 38\tEpisode Score: 4.980\tAverage Score: 2.065\n",
      "Episode 39\tEpisode Score: 7.050\tAverage Score: 2.193\n",
      "Episode 40\tEpisode Score: 3.580\tAverage Score: 2.228\n",
      "Episode 41\tEpisode Score: 4.950\tAverage Score: 2.294\n",
      "Episode 42\tEpisode Score: 1.900\tAverage Score: 2.285\n",
      "Episode 43\tEpisode Score: 4.090\tAverage Score: 2.327\n",
      "Episode 44\tEpisode Score: 2.840\tAverage Score: 2.338\n",
      "Episode 45\tEpisode Score: 4.270\tAverage Score: 2.381\n",
      "Episode 46\tEpisode Score: 2.730\tAverage Score: 2.389\n",
      "Episode 47\tEpisode Score: 5.190\tAverage Score: 2.449\n",
      "Episode 48\tEpisode Score: 8.960\tAverage Score: 2.584\n",
      "Episode 49\tEpisode Score: 6.230\tAverage Score: 2.659\n",
      "Episode 50\tEpisode Score: 6.500\tAverage Score: 2.735\n",
      "Episode 51\tEpisode Score: 4.070\tAverage Score: 2.762\n",
      "Episode 52\tEpisode Score: 8.400\tAverage Score: 2.870\n",
      "Episode 53\tEpisode Score: 3.120\tAverage Score: 2.875\n",
      "Episode 54\tEpisode Score: 2.870\tAverage Score: 2.875\n",
      "Episode 55\tEpisode Score: 5.530\tAverage Score: 2.923\n",
      "Episode 56\tEpisode Score: 5.440\tAverage Score: 2.968\n",
      "Episode 57\tEpisode Score: 9.830\tAverage Score: 3.088\n",
      "Episode 58\tEpisode Score: 3.990\tAverage Score: 3.104\n",
      "Episode 59\tEpisode Score: 6.550\tAverage Score: 3.162\n",
      "Episode 60\tEpisode Score: 2.070\tAverage Score: 3.144\n",
      "Episode 61\tEpisode Score: 6.560\tAverage Score: 3.200\n",
      "Episode 62\tEpisode Score: 7.920\tAverage Score: 3.276\n",
      "Episode 63\tEpisode Score: 3.540\tAverage Score: 3.280\n",
      "Episode 64\tEpisode Score: 2.670\tAverage Score: 3.271\n",
      "Episode 65\tEpisode Score: 8.450\tAverage Score: 3.350\n",
      "Episode 66\tEpisode Score: 2.790\tAverage Score: 3.342\n",
      "Episode 67\tEpisode Score: 3.730\tAverage Score: 3.348\n",
      "Episode 68\tEpisode Score: 4.180\tAverage Score: 3.360\n",
      "Episode 69\tEpisode Score: 9.450\tAverage Score: 3.448\n",
      "Episode 70\tEpisode Score: 8.520\tAverage Score: 3.521\n",
      "Episode 71\tEpisode Score: 4.830\tAverage Score: 3.539\n",
      "Episode 72\tEpisode Score: 7.480\tAverage Score: 3.594\n",
      "Episode 73\tEpisode Score: 5.520\tAverage Score: 3.620\n",
      "Episode 74\tEpisode Score: 4.070\tAverage Score: 3.626\n",
      "Episode 75\tEpisode Score: 4.340\tAverage Score: 3.636\n",
      "Episode 76\tEpisode Score: 7.270\tAverage Score: 3.684\n",
      "Episode 77\tEpisode Score: 3.970\tAverage Score: 3.687\n",
      "Episode 78\tEpisode Score: 5.030\tAverage Score: 3.705\n",
      "Episode 79\tEpisode Score: 2.970\tAverage Score: 3.695\n",
      "Episode 80\tEpisode Score: 8.880\tAverage Score: 3.760\n",
      "Episode 81\tEpisode Score: 4.430\tAverage Score: 3.768\n",
      "Episode 82\tEpisode Score: 7.920\tAverage Score: 3.819\n",
      "Episode 83\tEpisode Score: 6.650\tAverage Score: 3.853\n",
      "Episode 84\tEpisode Score: 3.970\tAverage Score: 3.855\n",
      "Episode 85\tEpisode Score: 5.650\tAverage Score: 3.876\n",
      "Episode 86\tEpisode Score: 4.830\tAverage Score: 3.887\n",
      "Episode 87\tEpisode Score: 3.950\tAverage Score: 3.887\n",
      "Episode 88\tEpisode Score: 6.610\tAverage Score: 3.918\n",
      "Episode 89\tEpisode Score: 6.010\tAverage Score: 3.942\n",
      "Episode 90\tEpisode Score: 7.570\tAverage Score: 3.982\n",
      "Episode 91\tEpisode Score: 10.350\tAverage Score: 4.052\n",
      "Episode 92\tEpisode Score: 10.750\tAverage Score: 4.125\n",
      "Episode 93\tEpisode Score: 4.030\tAverage Score: 4.124\n",
      "Episode 94\tEpisode Score: 2.470\tAverage Score: 4.106\n",
      "Episode 95\tEpisode Score: 12.610\tAverage Score: 4.196\n",
      "Episode 96\tEpisode Score: 8.680\tAverage Score: 4.243\n",
      "Episode 97\tEpisode Score: 16.320\tAverage Score: 4.367\n",
      "Episode 98\tEpisode Score: 7.620\tAverage Score: 4.400\n",
      "Episode 99\tEpisode Score: 7.990\tAverage Score: 4.437\n",
      "Episode 100\tEpisode Score: 10.290\tAverage Score: 4.495\n",
      "Episode 101\tEpisode Score: 9.040\tAverage Score: 4.585\n",
      "Episode 102\tEpisode Score: 6.880\tAverage Score: 4.643\n",
      "Episode 103\tEpisode Score: 9.120\tAverage Score: 4.721\n",
      "Episode 104\tEpisode Score: 10.560\tAverage Score: 4.820\n",
      "Episode 105\tEpisode Score: 10.820\tAverage Score: 4.928\n",
      "Episode 106\tEpisode Score: 9.340\tAverage Score: 5.006\n",
      "Episode 107\tEpisode Score: 4.480\tAverage Score: 5.045\n",
      "Episode 108\tEpisode Score: 5.910\tAverage Score: 5.103\n",
      "Episode 109\tEpisode Score: 7.770\tAverage Score: 5.176\n",
      "Episode 110\tEpisode Score: 9.440\tAverage Score: 5.266\n",
      "Episode 111\tEpisode Score: 10.950\tAverage Score: 5.363\n",
      "Episode 112\tEpisode Score: 10.710\tAverage Score: 5.462\n",
      "Episode 113\tEpisode Score: 5.880\tAverage Score: 5.500\n",
      "Episode 114\tEpisode Score: 10.280\tAverage Score: 5.599\n",
      "Episode 115\tEpisode Score: 6.990\tAverage Score: 5.638\n",
      "Episode 116\tEpisode Score: 6.970\tAverage Score: 5.692\n",
      "Episode 117\tEpisode Score: 12.880\tAverage Score: 5.801\n",
      "Episode 118\tEpisode Score: 10.400\tAverage Score: 5.881\n",
      "Episode 119\tEpisode Score: 7.340\tAverage Score: 5.913\n",
      "Episode 120\tEpisode Score: 8.810\tAverage Score: 5.983\n",
      "Episode 121\tEpisode Score: 11.420\tAverage Score: 6.071\n",
      "Episode 122\tEpisode Score: 8.440\tAverage Score: 6.125\n",
      "Episode 123\tEpisode Score: 11.620\tAverage Score: 6.211\n",
      "Episode 124\tEpisode Score: 8.750\tAverage Score: 6.283\n",
      "Episode 125\tEpisode Score: 12.910\tAverage Score: 6.361\n",
      "Episode 126\tEpisode Score: 7.890\tAverage Score: 6.427\n",
      "Episode 127\tEpisode Score: 13.380\tAverage Score: 6.532\n",
      "Episode 128\tEpisode Score: 11.150\tAverage Score: 6.621\n",
      "Episode 129\tEpisode Score: 8.070\tAverage Score: 6.688\n",
      "Episode 130\tEpisode Score: 7.050\tAverage Score: 6.741\n",
      "Episode 131\tEpisode Score: 7.530\tAverage Score: 6.789\n",
      "Episode 132\tEpisode Score: 10.400\tAverage Score: 6.886\n",
      "Episode 133\tEpisode Score: 13.350\tAverage Score: 6.984\n",
      "Episode 134\tEpisode Score: 12.430\tAverage Score: 7.088\n",
      "Episode 135\tEpisode Score: 9.240\tAverage Score: 7.138\n",
      "Episode 136\tEpisode Score: 13.300\tAverage Score: 7.251\n",
      "Episode 137\tEpisode Score: 11.210\tAverage Score: 7.287\n",
      "Episode 138\tEpisode Score: 16.090\tAverage Score: 7.398\n",
      "Episode 139\tEpisode Score: 8.630\tAverage Score: 7.414\n",
      "Episode 140\tEpisode Score: 13.300\tAverage Score: 7.511\n",
      "Episode 141\tEpisode Score: 10.000\tAverage Score: 7.562\n",
      "Episode 142\tEpisode Score: 13.170\tAverage Score: 7.674\n",
      "Episode 143\tEpisode Score: 10.530\tAverage Score: 7.739\n",
      "Episode 144\tEpisode Score: 7.350\tAverage Score: 7.784\n",
      "Episode 145\tEpisode Score: 9.350\tAverage Score: 7.835\n",
      "Episode 146\tEpisode Score: 15.260\tAverage Score: 7.960\n",
      "Episode 147\tEpisode Score: 12.070\tAverage Score: 8.029\n",
      "Episode 148\tEpisode Score: 10.840\tAverage Score: 8.048\n",
      "Episode 149\tEpisode Score: 11.320\tAverage Score: 8.099\n",
      "Episode 150\tEpisode Score: 10.010\tAverage Score: 8.134\n",
      "Episode 151\tEpisode Score: 17.560\tAverage Score: 8.269\n",
      "Episode 152\tEpisode Score: 14.380\tAverage Score: 8.328\n",
      "Episode 153\tEpisode Score: 7.320\tAverage Score: 8.370\n",
      "Episode 154\tEpisode Score: 15.870\tAverage Score: 8.500\n",
      "Episode 155\tEpisode Score: 4.570\tAverage Score: 8.491\n",
      "Episode 156\tEpisode Score: 8.190\tAverage Score: 8.518\n",
      "Episode 157\tEpisode Score: 6.120\tAverage Score: 8.481\n",
      "Episode 158\tEpisode Score: 9.910\tAverage Score: 8.540\n",
      "Episode 159\tEpisode Score: 15.370\tAverage Score: 8.629\n",
      "Episode 160\tEpisode Score: 12.450\tAverage Score: 8.732\n",
      "Episode 161\tEpisode Score: 10.300\tAverage Score: 8.770\n",
      "Episode 162\tEpisode Score: 16.590\tAverage Score: 8.856\n",
      "Episode 163\tEpisode Score: 11.960\tAverage Score: 8.941\n",
      "Episode 164\tEpisode Score: 14.170\tAverage Score: 9.056\n",
      "Episode 165\tEpisode Score: 14.590\tAverage Score: 9.117\n",
      "Episode 166\tEpisode Score: 12.030\tAverage Score: 9.209"
     ]
    }
   ],
   "source": [
    "def ddpg(n_episodes=1000, print_every=100):\n",
    "    # loop from n_episodes\n",
    "    for i_episode in range(1, n_episodes+1):\n",
    "\n",
    "        # reset the unity environment at the beginning of each episode\n",
    "        env_info = env.reset(train_mode=True)[brain_name]     \n",
    "\n",
    "        # get initial state of the unity environment \n",
    "        states = env_info.vector_observations\n",
    "\n",
    "        # reset the training agent for new episode\n",
    "        agent.reset()\n",
    "\n",
    "        # set the initial episode score to zero.\n",
    "        agent_scores = np.zeros(num_agents)\n",
    "\n",
    "        # Run the episode training loop;\n",
    "        # At each loop step take an action as a function of the current state observations\n",
    "        # Based on the resultant environmental state (next_state) and reward received update the Agents Actor and Critic networks\n",
    "        # If environment episode is done, exit loop...\n",
    "        # Otherwise repeat until done == true \n",
    "        while True:\n",
    "            # determine actions for the unity agents from current sate\n",
    "            actions = agent.act(states)\n",
    "\n",
    "            # send the actions to the unity agents in the environment and receive resultant environment information\n",
    "            env_info = env.step(actions)[brain_name]        \n",
    "\n",
    "            next_states = env_info.vector_observations   # get the next states for each unity agent in the environment\n",
    "            rewards = env_info.rewards                   # get the rewards for each unity agent in the environment\n",
    "            dones = env_info.local_done                  # see if episode has finished for each unity agent in the environment\n",
    "\n",
    "            #Send (S, A, R, S') info to the training agent for replay buffer (memory) and network updates\n",
    "            agent.step(states, actions, rewards, next_states, dones)\n",
    "\n",
    "            # set new states to current states for determining next actions\n",
    "            states = next_states\n",
    "\n",
    "            # Update episode score for each unity agent\n",
    "            agent_scores += rewards\n",
    "\n",
    "            # If any unity agent indicates that the episode is done, \n",
    "            # then exit episode loop, to begin new episode\n",
    "            if np.any(dones):\n",
    "                break\n",
    "\n",
    "        # Add episode score to Scores and...\n",
    "        # Calculate mean score over last 100 episodes \n",
    "        # Mean score is calculated over current episodes until i_episode > 100\n",
    "        episode_scores.append(np.mean(agent_scores))\n",
    "        average_score = np.mean(episode_scores[i_episode-min(i_episode,scores_average_window):i_episode+1])\n",
    "\n",
    "        #Print current and average score\n",
    "        print('\\nEpisode {}\\tEpisode Score: {:.3f}\\tAverage Score: {:.3f}'.format(i_episode, episode_scores[i_episode-1], average_score), end=\"\")\n",
    "\n",
    "        # Save trained  Actor and Critic network weights after each episode\n",
    "        an_filename = \"checkpoint_actor.pth\"\n",
    "        torch.save(agent.actor_local.state_dict(), an_filename)\n",
    "        cn_filename = \"checkpoint_critic.pth\"\n",
    "        torch.save(agent.critic_local.state_dict(), cn_filename)\n",
    "\n",
    "        # Check to see if the task is solved (i.e,. avearge_score > solved_score over 100 episodes). \n",
    "        # If yes, save the network weights and scores and end training.\n",
    "        if i_episode > 100 and average_score >= solved_score:\n",
    "            print('\\nEnvironment solved in {:d} episodes!\\tAverage Score: {:.3f}'.format(i_episode, average_score))\n",
    "            break\n",
    "    return episode_scores\n",
    "\n",
    "scores = ddpg(n_episodes=num_episodes)"
   ]
  },
  {
   "cell_type": "markdown",
   "metadata": {},
   "source": [
    "### Plot the Scores"
   ]
  },
  {
   "cell_type": "code",
   "execution_count": null,
   "metadata": {},
   "outputs": [],
   "source": [
    "fig = plt.figure()\n",
    "ax = fig.add_subplot(111)\n",
    "plt.plot(np.arange(1, len(scores)+1), scores)\n",
    "plt.ylabel('Score')\n",
    "plt.xlabel('Episode #')\n",
    "plt.show()"
   ]
  },
  {
   "cell_type": "markdown",
   "metadata": {},
   "source": [
    "### 7. Watch the DDPG Agent!\n",
    "\n",
    "In the next code cell, you will load the trained weights from file to watch a the vanilla DDPG Agent!"
   ]
  },
  {
   "cell_type": "code",
   "execution_count": 16,
   "metadata": {},
   "outputs": [],
   "source": [
    "# load the weights from file\n",
    "agent.actor_local.load_state_dict(torch.load('checkpoint_actor.pth'))\n",
    "agent.critic_local.load_state_dict(torch.load('checkpoint_critic.pth'))\n",
    "\n",
    "for i_episode in range(1, num_episodes+1):\n",
    "\n",
    "    # reset the unity environment at the beginning of each episode\n",
    "    # set train mode to false\n",
    "    env_info = env.reset(train_mode=False)[brain_name]     \n",
    "\n",
    "    # get initial state of the unity environment \n",
    "    states = env_info.vector_observations\n",
    "\n",
    "    # reset the training agent for new episode\n",
    "    agent.reset()\n",
    "\n",
    "    # set the initial episode scores to zero for each unity agent.\n",
    "    scores = np.zeros(num_agents)\n",
    "\n",
    "    # Run the episode loop;\n",
    "    # At each loop step take an action as a function of the current state observations\n",
    "    # If environment episode is done, exit loop...\n",
    "    # Otherwise repeat until done == true \n",
    "    while True:\n",
    "        # determine actions for the unity agents from current sate\n",
    "        actions = agent.act(states)\n",
    "\n",
    "        # send the actions to the unity agents in the environment and receive resultant environment information\n",
    "        env_info = env.step(actions)[brain_name]        \n",
    "\n",
    "        next_states = env_info.vector_observations   # get the next states for each unity agent in the environment\n",
    "        rewards = env_info.rewards                   # get the rewards for each unity agent in the environment\n",
    "        dones = env_info.local_done                  # see if episode has finished for each unity agent in the environment\n",
    "\n",
    "        # set new states to current states for determining next actions\n",
    "        states = next_states\n",
    "\n",
    "        # Update episode score for each unity agent\n",
    "        scores += rewards\n",
    "\n",
    "        # If any unity agent indicates that the episode is done, \n",
    "        # then exit episode loop, to begin new episode\n",
    "        if np.any(dones):\n",
    "            break\n",
    "\n",
    "    # Print current average score\n",
    "    print('\\nEpisode {}\\tAverage Score: {:.2f}'.format(i_episode, np.mean(scores), end=\"\"))"
   ]
  },
  {
   "cell_type": "code",
   "execution_count": null,
   "metadata": {},
   "outputs": [],
   "source": [
    "env.close()"
   ]
  },
  {
   "cell_type": "markdown",
   "metadata": {},
   "source": [
    "## Future Work\n",
    "\n",
    "### 1. Explore the current DDPG Algorithm\n",
    "\n",
    "    * Amend the various hyperparameters and network architecture to see if we can get your agent to solve the environment faster. \n",
    "    * Once we build intuition for the hyperparameters that work well with this environment, try solving a different Unity ML-Agents task like [Crawler](https://github.com/Unity-Technologies/ml-agents/blob/master/docs/Learning-Environment-Examples.md#crawler).\n",
    "\n",
    "### 2. Explore the other PG Algorithm\n",
    "    * We are interested in implementing a method that will be more stable with this project, so we will explore [this paper \"Benchmarking Deep Reinforcement Learning for Continuous Control\"](https://arxiv.org/abs/1604.06778)\n",
    "    * We would like to implement some improvements such as ...\n",
    "        - [Trust Region Policy Optimization (TRPO)](https://arxiv.org/abs/1502.05477)\n",
    "        - Truncated Natural Policy Gradient (TNPG)\n",
    "        - [Proximal Policy Optimization (PPO)](https://blog.openai.com/openai-baselines-ppo/)\n",
    "        - [Distributed Distributional Deterministic Policy Gradients (D4PG) ](https://arxiv.org/abs/1602.01783)\n",
    "\n",
    "![Performance Comparison](assets/benchmark-DRL-ContinousControl.png)"
   ]
  },
  {
   "cell_type": "code",
   "execution_count": null,
   "metadata": {},
   "outputs": [],
   "source": []
  }
 ],
 "metadata": {
  "kernelspec": {
   "display_name": "Python 3",
   "language": "python",
   "name": "python3"
  },
  "language_info": {
   "codemirror_mode": {
    "name": "ipython",
    "version": 3
   },
   "file_extension": ".py",
   "mimetype": "text/x-python",
   "name": "python",
   "nbconvert_exporter": "python",
   "pygments_lexer": "ipython3",
   "version": "3.6.7"
  }
 },
 "nbformat": 4,
 "nbformat_minor": 2
}

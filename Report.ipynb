{
 "cells": [
  {
   "cell_type": "markdown",
   "metadata": {},
   "source": [
    "# Solving Continuous Control Problem by DRL Policy-based Method(DDPG)\n",
    "## \"Version 1: One (1) Agent\"\n",
    "---\n",
    "In this notebook, we will implement a DDPG agent with Unity ML-Agents Reacher(\"Version 1: One (1) Agent\") environment.\n",
    "\n",
    "### 1. Import the Necessary Packages"
   ]
  },
  {
   "cell_type": "code",
   "execution_count": 1,
   "metadata": {},
   "outputs": [],
   "source": [
    "import torch\n",
    "import random\n",
    "import numpy as np\n",
    "from collections import deque\n",
    "from ddpg_agent import Agent"
   ]
  },
  {
   "cell_type": "markdown",
   "metadata": {},
   "source": [
    "### 2. Import the Necesaary Packages to start the Environment\n",
    "\n",
    "We begin by importing some necessary packages.  If the code cell below returns an error, please revisit the project instructions to double-check that you have installed [Unity ML-Agents](https://github.com/Unity-Technologies/ml-agents/blob/master/docs/Installation.md) and [NumPy](http://www.numpy.org/)."
   ]
  },
  {
   "cell_type": "code",
   "execution_count": 2,
   "metadata": {},
   "outputs": [],
   "source": [
    "from unityagents import UnityEnvironment\n",
    "import numpy as np"
   ]
  },
  {
   "cell_type": "markdown",
   "metadata": {},
   "source": [
    "### 3. Instantiate the Environment\n",
    "Next, we will start the environment!  **_Before running the code cell below_**, change the `file_name` parameter to match the location of the Unity environment that you downloaded.\n",
    "\n",
    "- **Mac**: `\"path/to/Reacher.app\"`\n",
    "- **Windows** (x86): `\"path/to/Reacher_Windows_x86/Reacher.exe\"`\n",
    "- **Windows** (x86_64): `\"path/to/Reacher_Windows_x86_64/Reacher.exe\"`\n",
    "- **Linux** (x86): `\"path/to/Reacher_Linux/Reacher.x86\"`\n",
    "- **Linux** (x86_64): `\"path/to/Reacher_Linux/Reacher.x86_64\"`\n",
    "- **Linux** (x86, headless): `\"path/to/Reacher_Linux_NoVis/Reacher.x86\"`\n",
    "- **Linux** (x86_64, headless): `\"path/to/Reacher_Linux_NoVis/Reacher.x86_64\"`\n",
    "\n",
    "For instance, if you are using a Mac, then you downloaded `Reacher.app`(\"Version 1: One (1) Agent\").  If this file is in the same folder as the notebook, then the line below should appear as follows:\n",
    "```\n",
    "env = UnityEnvironment(file_name=\"Reacher.app\")\n",
    "```"
   ]
  },
  {
   "cell_type": "code",
   "execution_count": 3,
   "metadata": {},
   "outputs": [
    {
     "name": "stderr",
     "output_type": "stream",
     "text": [
      "INFO:unityagents:\n",
      "'Academy' started successfully!\n",
      "Unity Academy name: Academy\n",
      "        Number of Brains: 1\n",
      "        Number of External Brains : 1\n",
      "        Lesson number : 0\n",
      "        Reset Parameters :\n",
      "\t\tgoal_size -> 5.0\n",
      "\t\tgoal_speed -> 1.0\n",
      "Unity brain name: ReacherBrain\n",
      "        Number of Visual Observations (per agent): 0\n",
      "        Vector Observation space type: continuous\n",
      "        Vector Observation space size (per agent): 33\n",
      "        Number of stacked Vector Observation: 1\n",
      "        Vector Action space type: continuous\n",
      "        Vector Action space size (per agent): 4\n",
      "        Vector Action descriptions: , , , \n"
     ]
    }
   ],
   "source": [
    "env = UnityEnvironment(file_name=\"Reacher.app\")"
   ]
  },
  {
   "cell_type": "markdown",
   "metadata": {},
   "source": [
    "Environments contain **_brains_** which are responsible for deciding the actions of their associated agents. Here we check for the first brain available, and set it as the default brain we will be controlling from Python."
   ]
  },
  {
   "cell_type": "code",
   "execution_count": 4,
   "metadata": {},
   "outputs": [],
   "source": [
    "# get the default brain\n",
    "brain_name = env.brain_names[0]\n",
    "brain = env.brains[brain_name]"
   ]
  },
  {
   "cell_type": "code",
   "execution_count": 5,
   "metadata": {},
   "outputs": [
    {
     "data": {
      "text/plain": [
       "'ReacherBrain'"
      ]
     },
     "execution_count": 5,
     "metadata": {},
     "output_type": "execute_result"
    }
   ],
   "source": [
    "brain_name"
   ]
  },
  {
   "cell_type": "code",
   "execution_count": 6,
   "metadata": {},
   "outputs": [
    {
     "data": {
      "text/plain": [
       "<unityagents.brain.BrainParameters at 0x11b01d160>"
      ]
     },
     "execution_count": 6,
     "metadata": {},
     "output_type": "execute_result"
    }
   ],
   "source": [
    "brain"
   ]
  },
  {
   "cell_type": "markdown",
   "metadata": {},
   "source": [
    "### 4. Examine the State and Action Spaces\n",
    "\n",
    "In this environment, a double-jointed arm can move to target locations. A reward of `+0.1` is provided for each step that the agent's hand is in the goal location. Thus, the goal of your agent is to maintain its position at the target location for as many time steps as possible.\n",
    "\n",
    "The observation space consists of `33` variables corresponding to position, rotation, velocity, and angular velocities of the arm.  Each action is a vector with four numbers, corresponding to torque applicable to two joints.  Every entry in the action vector must be a number between `-1` and `1`.\n",
    "\n",
    "Run the code cell below to print some information about the environment."
   ]
  },
  {
   "cell_type": "code",
   "execution_count": 7,
   "metadata": {},
   "outputs": [
    {
     "name": "stdout",
     "output_type": "stream",
     "text": [
      "Number of agents: 1\n",
      "Size of each action: 4\n",
      "There are 1 agents. Each observes a state with length: 33\n",
      "The state for the first agent looks like: [ 0.00000000e+00 -4.00000000e+00  0.00000000e+00  1.00000000e+00\n",
      " -0.00000000e+00 -0.00000000e+00 -4.37113883e-08  0.00000000e+00\n",
      "  0.00000000e+00  0.00000000e+00  0.00000000e+00  0.00000000e+00\n",
      "  0.00000000e+00  0.00000000e+00 -1.00000000e+01  0.00000000e+00\n",
      "  1.00000000e+00 -0.00000000e+00 -0.00000000e+00 -4.37113883e-08\n",
      "  0.00000000e+00  0.00000000e+00  0.00000000e+00  0.00000000e+00\n",
      "  0.00000000e+00  0.00000000e+00  5.75471878e+00 -1.00000000e+00\n",
      "  5.55726671e+00  0.00000000e+00  1.00000000e+00  0.00000000e+00\n",
      " -1.68164849e-01]\n"
     ]
    }
   ],
   "source": [
    "# reset the environment\n",
    "env_info = env.reset(train_mode=True)[brain_name]\n",
    "\n",
    "# number of agents\n",
    "num_agents = len(env_info.agents)\n",
    "print('Number of agents:', num_agents)\n",
    "\n",
    "# size of each action\n",
    "action_size = brain.vector_action_space_size\n",
    "print('Size of each action:', action_size)\n",
    "\n",
    "# examine the state space \n",
    "states = env_info.vector_observations\n",
    "state_size = states.shape[1]\n",
    "print('There are {} agents. Each observes a state with length: {}'.format(states.shape[0], state_size))\n",
    "print('The state for the first agent looks like:', states[0])"
   ]
  },
  {
   "cell_type": "markdown",
   "metadata": {},
   "source": [
    "### 5. Take Random Actions in the Environment\n",
    "\n",
    "In the next code cell, you will learn how to use the Python API to control the agent and receive feedback from the environment.\n",
    "\n",
    "Once this cell is executed, you will watch the agent's performance, if it selects an action (uniformly) at random with each time step.  A window should pop up that allows you to observe the agent, as it moves through the environment.  \n",
    "\n",
    "Of course, as part of the project, you'll have to change the code so that the agent is able to use its experience to gradually choose better actions when interacting with the environment!"
   ]
  },
  {
   "cell_type": "code",
   "execution_count": 8,
   "metadata": {},
   "outputs": [
    {
     "name": "stdout",
     "output_type": "stream",
     "text": [
      "Total score (averaged over agents) this episode: 0.0\n"
     ]
    }
   ],
   "source": [
    "env_info = env.reset(train_mode=False)[brain_name]     # reset the environment    \n",
    "states = env_info.vector_observations                  # get the current state (for each agent)\n",
    "scores = np.zeros(num_agents)                          # initialize the score (for each agent)\n",
    "while True:\n",
    "    actions = np.random.randn(num_agents, action_size) # select an action (for each agent)\n",
    "    actions = np.clip(actions, -1, 1)                  # all actions between -1 and 1\n",
    "    env_info = env.step(actions)[brain_name]           # send all actions to tne environment\n",
    "    next_states = env_info.vector_observations         # get next state (for each agent)\n",
    "    rewards = env_info.rewards                         # get reward (for each agent)\n",
    "    dones = env_info.local_done                        # see if episode finished\n",
    "    scores += env_info.rewards                         # update the score (for each agent)\n",
    "    states = next_states                               # roll over states to next time step\n",
    "    if np.any(dones):                                  # exit loop if episode finished\n",
    "        break\n",
    "print('Total score (averaged over agents) this episode: {}'.format(np.mean(scores)))"
   ]
  },
  {
   "cell_type": "markdown",
   "metadata": {},
   "source": [
    "When finished, you can close the environment."
   ]
  },
  {
   "cell_type": "code",
   "execution_count": null,
   "metadata": {},
   "outputs": [],
   "source": [
    "env.close()"
   ]
  },
  {
   "cell_type": "markdown",
   "metadata": {},
   "source": [
    "### 6. Train our own Agent with REINFORCE\n",
    "\n",
    "Now it's our turn to train your own agent to solve the environment!  When training the environment, set `train_mode=True`, so that the line for resetting the environment looks like the following:\n",
    "```python\n",
    "env_info = env.reset(train_mode=True)[brain_name]\n",
    "```"
   ]
  },
  {
   "cell_type": "code",
   "execution_count": 9,
   "metadata": {},
   "outputs": [],
   "source": [
    "# reset the environment\n",
    "env_info = env.reset(train_mode=True)[brain_name]"
   ]
  },
  {
   "cell_type": "markdown",
   "metadata": {},
   "source": [
    "### Set the Training Parameters\n",
    "\n",
    "* num_episodes (int): maximum number of training episodes\n",
    "* episode_scores (float): list to record the scores obtained from each episode\n",
    "* scores_average_window (int): the window size employed for calculating the average score (e.g. 100)\n",
    "* solved_score (float): the average score required for the environment to be considered solved\n"
   ]
  },
  {
   "cell_type": "code",
   "execution_count": 17,
   "metadata": {},
   "outputs": [],
   "source": [
    "num_episodes=1000\n",
    "episode_scores = []\n",
    "scores_average_window = 100      \n",
    "solved_score = 30   "
   ]
  },
  {
   "cell_type": "markdown",
   "metadata": {},
   "source": [
    "Before running the next code cell, check with the code in `ddpg_agent.py` and `model.py`.\n",
    "- Check a neural network architecture in `model.py`. This file is to define our own DDPG Model!"
   ]
  },
  {
   "cell_type": "markdown",
   "metadata": {},
   "source": [
    "### Create a DDPG Agent from the Agent Class in ddpg_agent.py\n",
    "\n",
    "A DDPG agent initialized with the following parameters.\n",
    "\n",
    "* state_size (int): dimension of each state (required)\n",
    "* action_size (int): dimension of each action (required)\n",
    "* num_agents (int): number of agents in the unity environment\n",
    "* seed (int): random seed for initializing training point (default = 0)"
   ]
  },
  {
   "cell_type": "code",
   "execution_count": 9,
   "metadata": {},
   "outputs": [],
   "source": [
    "agent = Agent(state_size=state_size, action_size=action_size, num_agents=num_agents, random_seed=0)"
   ]
  },
  {
   "cell_type": "markdown",
   "metadata": {},
   "source": [
    "### DDPG Model Architecture "
   ]
  },
  {
   "cell_type": "code",
   "execution_count": 10,
   "metadata": {},
   "outputs": [
    {
     "data": {
      "text/plain": [
       "Actor(\n",
       "  (fc1): Linear(in_features=33, out_features=400, bias=True)\n",
       "  (fc2): Linear(in_features=400, out_features=300, bias=True)\n",
       "  (fc3): Linear(in_features=300, out_features=4, bias=True)\n",
       ")"
      ]
     },
     "execution_count": 10,
     "metadata": {},
     "output_type": "execute_result"
    }
   ],
   "source": [
    "agent.actor_local"
   ]
  },
  {
   "cell_type": "code",
   "execution_count": 11,
   "metadata": {},
   "outputs": [
    {
     "data": {
      "text/plain": [
       "Actor(\n",
       "  (fc1): Linear(in_features=33, out_features=400, bias=True)\n",
       "  (fc2): Linear(in_features=400, out_features=300, bias=True)\n",
       "  (fc3): Linear(in_features=300, out_features=4, bias=True)\n",
       ")"
      ]
     },
     "execution_count": 11,
     "metadata": {},
     "output_type": "execute_result"
    }
   ],
   "source": [
    "agent.actor_target"
   ]
  },
  {
   "cell_type": "code",
   "execution_count": 12,
   "metadata": {},
   "outputs": [
    {
     "data": {
      "text/plain": [
       "Critic(\n",
       "  (fcs1): Linear(in_features=33, out_features=400, bias=True)\n",
       "  (fc2): Linear(in_features=404, out_features=300, bias=True)\n",
       "  (fc3): Linear(in_features=300, out_features=1, bias=True)\n",
       ")"
      ]
     },
     "execution_count": 12,
     "metadata": {},
     "output_type": "execute_result"
    }
   ],
   "source": [
    "agent.critic_local"
   ]
  },
  {
   "cell_type": "code",
   "execution_count": 14,
   "metadata": {},
   "outputs": [
    {
     "data": {
      "text/plain": [
       "Actor(\n",
       "  (fc1): Linear(in_features=33, out_features=400, bias=True)\n",
       "  (fc2): Linear(in_features=400, out_features=300, bias=True)\n",
       "  (fc3): Linear(in_features=300, out_features=4, bias=True)\n",
       ")"
      ]
     },
     "execution_count": 14,
     "metadata": {},
     "output_type": "execute_result"
    }
   ],
   "source": [
    "agent.critic_target"
   ]
  },
  {
   "cell_type": "markdown",
   "metadata": {},
   "source": [
    "### Chosen Hyperparamters\n",
    "* BUFFER_SIZE = int(1e5)  # replay buffer size\n",
    "* BATCH_SIZE = 128        # minibatch size\n",
    "* GAMMA = 0.99            # discount factor\n",
    "* TAU = 1e-3              # for soft update of target parameters\n",
    "* LR_ACTOR = 1e-4         # learning rate of the actor \n",
    "* LR_CRITIC = 1e-4        # learning rate of the critic\n",
    "* WEIGHT_DECAY = 0.0      # L2 weight decay"
   ]
  },
  {
   "cell_type": "markdown",
   "metadata": {},
   "source": [
    "### Train the Agent with DDPG"
   ]
  },
  {
   "cell_type": "markdown",
   "metadata": {},
   "source": [
    "Run the code cell below to train the agent from scratch."
   ]
  },
  {
   "cell_type": "code",
   "execution_count": null,
   "metadata": {},
   "outputs": [
    {
     "name": "stdout",
     "output_type": "stream",
     "text": [
      "\n",
      "Episode 1\tEpisode Score: 0.070\tAverage Score: 0.070\n",
      "Episode 2\tEpisode Score: 1.010\tAverage Score: 0.540\n",
      "Episode 3\tEpisode Score: 1.330\tAverage Score: 0.803\n",
      "Episode 4\tEpisode Score: 0.720\tAverage Score: 0.782\n",
      "Episode 5\tEpisode Score: 0.000\tAverage Score: 0.626\n",
      "Episode 6\tEpisode Score: 1.560\tAverage Score: 0.782\n",
      "Episode 7\tEpisode Score: 0.530\tAverage Score: 0.746\n",
      "Episode 8\tEpisode Score: 0.180\tAverage Score: 0.675\n",
      "Episode 9\tEpisode Score: 0.410\tAverage Score: 0.646\n",
      "Episode 10\tEpisode Score: 0.410\tAverage Score: 0.622\n",
      "Episode 11\tEpisode Score: 1.250\tAverage Score: 0.679\n",
      "Episode 12\tEpisode Score: 0.830\tAverage Score: 0.692\n",
      "Episode 13\tEpisode Score: 2.090\tAverage Score: 0.799\n",
      "Episode 14\tEpisode Score: 0.440\tAverage Score: 0.774\n",
      "Episode 15\tEpisode Score: 3.040\tAverage Score: 0.925\n",
      "Episode 16\tEpisode Score: 1.620\tAverage Score: 0.968\n",
      "Episode 17\tEpisode Score: 1.920\tAverage Score: 1.024\n",
      "Episode 18\tEpisode Score: 2.380\tAverage Score: 1.099\n",
      "Episode 19\tEpisode Score: 4.180\tAverage Score: 1.262\n",
      "Episode 20\tEpisode Score: 1.780\tAverage Score: 1.287\n",
      "Episode 21\tEpisode Score: 2.630\tAverage Score: 1.351\n",
      "Episode 22\tEpisode Score: 3.090\tAverage Score: 1.430\n",
      "Episode 23\tEpisode Score: 3.030\tAverage Score: 1.500\n",
      "Episode 24\tEpisode Score: 1.520\tAverage Score: 1.501\n",
      "Episode 25\tEpisode Score: 5.050\tAverage Score: 1.643\n",
      "Episode 26\tEpisode Score: 1.370\tAverage Score: 1.632\n",
      "Episode 27\tEpisode Score: 2.850\tAverage Score: 1.677\n",
      "Episode 28\tEpisode Score: 2.240\tAverage Score: 1.697\n",
      "Episode 29\tEpisode Score: 1.380\tAverage Score: 1.687\n",
      "Episode 30\tEpisode Score: 1.790\tAverage Score: 1.690\n",
      "Episode 31\tEpisode Score: 2.720\tAverage Score: 1.723\n",
      "Episode 32\tEpisode Score: 0.680\tAverage Score: 1.691\n",
      "Episode 33\tEpisode Score: 3.580\tAverage Score: 1.748\n",
      "Episode 34\tEpisode Score: 1.970\tAverage Score: 1.754\n",
      "Episode 35\tEpisode Score: 4.280\tAverage Score: 1.827\n",
      "Episode 36\tEpisode Score: 1.970\tAverage Score: 1.831\n",
      "Episode 37\tEpisode Score: 7.600\tAverage Score: 1.986\n",
      "Episode 38\tEpisode Score: 4.980\tAverage Score: 2.065\n",
      "Episode 39\tEpisode Score: 7.050\tAverage Score: 2.193\n",
      "Episode 40\tEpisode Score: 3.580\tAverage Score: 2.228\n",
      "Episode 41\tEpisode Score: 4.950\tAverage Score: 2.294\n",
      "Episode 42\tEpisode Score: 1.900\tAverage Score: 2.285\n",
      "Episode 43\tEpisode Score: 4.090\tAverage Score: 2.327\n",
      "Episode 44\tEpisode Score: 2.840\tAverage Score: 2.338\n",
      "Episode 45\tEpisode Score: 4.270\tAverage Score: 2.381\n",
      "Episode 46\tEpisode Score: 2.730\tAverage Score: 2.389\n",
      "Episode 47\tEpisode Score: 5.190\tAverage Score: 2.449\n",
      "Episode 48\tEpisode Score: 8.960\tAverage Score: 2.584\n",
      "Episode 49\tEpisode Score: 6.230\tAverage Score: 2.659\n",
      "Episode 50\tEpisode Score: 6.500\tAverage Score: 2.735\n",
      "Episode 51\tEpisode Score: 4.070\tAverage Score: 2.762\n",
      "Episode 52\tEpisode Score: 8.400\tAverage Score: 2.870\n",
      "Episode 53\tEpisode Score: 3.120\tAverage Score: 2.875\n",
      "Episode 54\tEpisode Score: 2.870\tAverage Score: 2.875\n",
      "Episode 55\tEpisode Score: 5.530\tAverage Score: 2.923\n",
      "Episode 56\tEpisode Score: 5.440\tAverage Score: 2.968\n",
      "Episode 57\tEpisode Score: 9.830\tAverage Score: 3.088\n",
      "Episode 58\tEpisode Score: 3.990\tAverage Score: 3.104\n",
      "Episode 59\tEpisode Score: 6.550\tAverage Score: 3.162\n",
      "Episode 60\tEpisode Score: 2.070\tAverage Score: 3.144\n",
      "Episode 61\tEpisode Score: 6.560\tAverage Score: 3.200\n",
      "Episode 62\tEpisode Score: 7.920\tAverage Score: 3.276\n",
      "Episode 63\tEpisode Score: 3.540\tAverage Score: 3.280\n",
      "Episode 64\tEpisode Score: 2.670\tAverage Score: 3.271\n",
      "Episode 65\tEpisode Score: 8.450\tAverage Score: 3.350\n",
      "Episode 66\tEpisode Score: 2.790\tAverage Score: 3.342\n",
      "Episode 67\tEpisode Score: 3.730\tAverage Score: 3.348\n",
      "Episode 68\tEpisode Score: 4.180\tAverage Score: 3.360\n",
      "Episode 69\tEpisode Score: 9.450\tAverage Score: 3.448\n",
      "Episode 70\tEpisode Score: 8.520\tAverage Score: 3.521\n",
      "Episode 71\tEpisode Score: 4.830\tAverage Score: 3.539\n",
      "Episode 72\tEpisode Score: 7.480\tAverage Score: 3.594\n",
      "Episode 73\tEpisode Score: 5.520\tAverage Score: 3.620\n",
      "Episode 74\tEpisode Score: 4.070\tAverage Score: 3.626\n",
      "Episode 75\tEpisode Score: 4.340\tAverage Score: 3.636\n",
      "Episode 76\tEpisode Score: 7.270\tAverage Score: 3.684\n",
      "Episode 77\tEpisode Score: 3.970\tAverage Score: 3.687\n",
      "Episode 78\tEpisode Score: 5.030\tAverage Score: 3.705\n",
      "Episode 79\tEpisode Score: 2.970\tAverage Score: 3.695\n",
      "Episode 80\tEpisode Score: 8.880\tAverage Score: 3.760\n",
      "Episode 81\tEpisode Score: 4.430\tAverage Score: 3.768\n",
      "Episode 82\tEpisode Score: 7.920\tAverage Score: 3.819\n",
      "Episode 83\tEpisode Score: 6.650\tAverage Score: 3.853\n",
      "Episode 84\tEpisode Score: 3.970\tAverage Score: 3.855\n",
      "Episode 85\tEpisode Score: 5.650\tAverage Score: 3.876\n",
      "Episode 86\tEpisode Score: 4.830\tAverage Score: 3.887\n",
      "Episode 87\tEpisode Score: 3.950\tAverage Score: 3.887\n",
      "Episode 88\tEpisode Score: 6.610\tAverage Score: 3.918\n",
      "Episode 89\tEpisode Score: 6.010\tAverage Score: 3.942\n",
      "Episode 90\tEpisode Score: 7.570\tAverage Score: 3.982\n",
      "Episode 91\tEpisode Score: 10.350\tAverage Score: 4.052\n",
      "Episode 92\tEpisode Score: 10.750\tAverage Score: 4.125\n",
      "Episode 93\tEpisode Score: 4.030\tAverage Score: 4.124\n",
      "Episode 94\tEpisode Score: 2.470\tAverage Score: 4.106\n",
      "Episode 95\tEpisode Score: 12.610\tAverage Score: 4.196\n",
      "Episode 96\tEpisode Score: 8.680\tAverage Score: 4.243\n",
      "Episode 97\tEpisode Score: 16.320\tAverage Score: 4.367\n",
      "Episode 98\tEpisode Score: 7.620\tAverage Score: 4.400\n",
      "Episode 99\tEpisode Score: 7.990\tAverage Score: 4.437\n",
      "Episode 100\tEpisode Score: 10.290\tAverage Score: 4.495\n",
      "Episode 101\tEpisode Score: 9.040\tAverage Score: 4.585\n",
      "Episode 102\tEpisode Score: 6.880\tAverage Score: 4.643\n",
      "Episode 103\tEpisode Score: 9.120\tAverage Score: 4.721\n",
      "Episode 104\tEpisode Score: 10.560\tAverage Score: 4.820\n",
      "Episode 105\tEpisode Score: 10.820\tAverage Score: 4.928\n",
      "Episode 106\tEpisode Score: 9.340\tAverage Score: 5.006\n",
      "Episode 107\tEpisode Score: 4.480\tAverage Score: 5.045\n",
      "Episode 108\tEpisode Score: 5.910\tAverage Score: 5.103\n",
      "Episode 109\tEpisode Score: 7.770\tAverage Score: 5.176\n",
      "Episode 110\tEpisode Score: 9.440\tAverage Score: 5.266\n",
      "Episode 111\tEpisode Score: 10.950\tAverage Score: 5.363\n",
      "Episode 112\tEpisode Score: 10.710\tAverage Score: 5.462\n",
      "Episode 113\tEpisode Score: 5.880\tAverage Score: 5.500\n",
      "Episode 114\tEpisode Score: 10.280\tAverage Score: 5.599\n",
      "Episode 115\tEpisode Score: 6.990\tAverage Score: 5.638\n",
      "Episode 116\tEpisode Score: 6.970\tAverage Score: 5.692\n",
      "Episode 117\tEpisode Score: 12.880\tAverage Score: 5.801\n",
      "Episode 118\tEpisode Score: 10.400\tAverage Score: 5.881\n",
      "Episode 119\tEpisode Score: 7.340\tAverage Score: 5.913\n",
      "Episode 120\tEpisode Score: 8.810\tAverage Score: 5.983\n",
      "Episode 121\tEpisode Score: 11.420\tAverage Score: 6.071\n",
      "Episode 122\tEpisode Score: 8.440\tAverage Score: 6.125\n",
      "Episode 123\tEpisode Score: 11.620\tAverage Score: 6.211\n",
      "Episode 124\tEpisode Score: 8.750\tAverage Score: 6.283\n",
      "Episode 125\tEpisode Score: 12.910\tAverage Score: 6.361\n",
      "Episode 126\tEpisode Score: 7.890\tAverage Score: 6.427\n",
      "Episode 127\tEpisode Score: 13.380\tAverage Score: 6.532\n",
      "Episode 128\tEpisode Score: 11.150\tAverage Score: 6.621\n",
      "Episode 129\tEpisode Score: 8.070\tAverage Score: 6.688\n",
      "Episode 130\tEpisode Score: 7.050\tAverage Score: 6.741\n",
      "Episode 131\tEpisode Score: 7.530\tAverage Score: 6.789\n",
      "Episode 132\tEpisode Score: 10.400\tAverage Score: 6.886\n",
      "Episode 133\tEpisode Score: 13.350\tAverage Score: 6.984\n",
      "Episode 134\tEpisode Score: 12.430\tAverage Score: 7.088\n",
      "Episode 135\tEpisode Score: 9.240\tAverage Score: 7.138\n",
      "Episode 136\tEpisode Score: 13.300\tAverage Score: 7.251\n",
      "Episode 137\tEpisode Score: 11.210\tAverage Score: 7.287\n",
      "Episode 138\tEpisode Score: 16.090\tAverage Score: 7.398\n",
      "Episode 139\tEpisode Score: 8.630\tAverage Score: 7.414\n",
      "Episode 140\tEpisode Score: 13.300\tAverage Score: 7.511\n",
      "Episode 141\tEpisode Score: 10.000\tAverage Score: 7.562\n",
      "Episode 142\tEpisode Score: 13.170\tAverage Score: 7.674\n",
      "Episode 143\tEpisode Score: 10.530\tAverage Score: 7.739\n",
      "Episode 144\tEpisode Score: 7.350\tAverage Score: 7.784\n",
      "Episode 145\tEpisode Score: 9.350\tAverage Score: 7.835\n",
      "Episode 146\tEpisode Score: 15.260\tAverage Score: 7.960\n",
      "Episode 147\tEpisode Score: 12.070\tAverage Score: 8.029\n",
      "Episode 148\tEpisode Score: 10.840\tAverage Score: 8.048\n",
      "Episode 149\tEpisode Score: 11.320\tAverage Score: 8.099\n",
      "Episode 150\tEpisode Score: 10.010\tAverage Score: 8.134\n",
      "Episode 151\tEpisode Score: 17.560\tAverage Score: 8.269\n",
      "Episode 152\tEpisode Score: 14.380\tAverage Score: 8.328\n",
      "Episode 153\tEpisode Score: 7.320\tAverage Score: 8.370\n"
     ]
    },
    {
     "name": "stdout",
     "output_type": "stream",
     "text": [
      "Episode 154\tEpisode Score: 15.870\tAverage Score: 8.500\n",
      "Episode 155\tEpisode Score: 4.570\tAverage Score: 8.491\n",
      "Episode 156\tEpisode Score: 8.190\tAverage Score: 8.518\n",
      "Episode 157\tEpisode Score: 6.120\tAverage Score: 8.481\n",
      "Episode 158\tEpisode Score: 9.910\tAverage Score: 8.540\n",
      "Episode 159\tEpisode Score: 15.370\tAverage Score: 8.629\n",
      "Episode 160\tEpisode Score: 12.450\tAverage Score: 8.732\n",
      "Episode 161\tEpisode Score: 10.300\tAverage Score: 8.770\n",
      "Episode 162\tEpisode Score: 16.590\tAverage Score: 8.856\n",
      "Episode 163\tEpisode Score: 11.960\tAverage Score: 8.941\n",
      "Episode 164\tEpisode Score: 14.170\tAverage Score: 9.056\n",
      "Episode 165\tEpisode Score: 14.590\tAverage Score: 9.117\n",
      "Episode 166\tEpisode Score: 12.030\tAverage Score: 9.209\n",
      "Episode 167\tEpisode Score: 16.550\tAverage Score: 9.338\n",
      "Episode 168\tEpisode Score: 14.380\tAverage Score: 9.440\n",
      "Episode 169\tEpisode Score: 10.680\tAverage Score: 9.452\n",
      "Episode 170\tEpisode Score: 14.700\tAverage Score: 9.514\n",
      "Episode 171\tEpisode Score: 13.930\tAverage Score: 9.605\n",
      "Episode 172\tEpisode Score: 15.800\tAverage Score: 9.688\n",
      "Episode 173\tEpisode Score: 11.340\tAverage Score: 9.746\n",
      "Episode 174\tEpisode Score: 8.500\tAverage Score: 9.790\n",
      "Episode 175\tEpisode Score: 10.780\tAverage Score: 9.855\n",
      "Episode 176\tEpisode Score: 11.970\tAverage Score: 9.902\n",
      "Episode 177\tEpisode Score: 9.630\tAverage Score: 9.958\n",
      "Episode 178\tEpisode Score: 10.590\tAverage Score: 10.014\n",
      "Episode 179\tEpisode Score: 16.300\tAverage Score: 10.147\n",
      "Episode 180\tEpisode Score: 18.220\tAverage Score: 10.241\n",
      "Episode 181\tEpisode Score: 15.550\tAverage Score: 10.352\n",
      "Episode 182\tEpisode Score: 9.490\tAverage Score: 10.368\n",
      "Episode 183\tEpisode Score: 14.560\tAverage Score: 10.447\n",
      "Episode 184\tEpisode Score: 15.020\tAverage Score: 10.557\n",
      "Episode 185\tEpisode Score: 11.480\tAverage Score: 10.616\n",
      "Episode 186\tEpisode Score: 15.340\tAverage Score: 10.721\n",
      "Episode 187\tEpisode Score: 13.990\tAverage Score: 10.821\n",
      "Episode 188\tEpisode Score: 15.380\tAverage Score: 10.909\n",
      "Episode 189\tEpisode Score: 17.990\tAverage Score: 11.029\n",
      "Episode 190\tEpisode Score: 14.890\tAverage Score: 11.102\n",
      "Episode 191\tEpisode Score: 21.530\tAverage Score: 11.214\n",
      "Episode 192\tEpisode Score: 13.820\tAverage Score: 11.244\n",
      "Episode 193\tEpisode Score: 16.600\tAverage Score: 11.370\n",
      "Episode 194\tEpisode Score: 13.850\tAverage Score: 11.484\n",
      "Episode 195\tEpisode Score: 9.370\tAverage Score: 11.451\n",
      "Episode 196\tEpisode Score: 19.860\tAverage Score: 11.563\n",
      "Episode 197\tEpisode Score: 8.550\tAverage Score: 11.485\n",
      "Episode 198\tEpisode Score: 8.850\tAverage Score: 11.498\n",
      "Episode 199\tEpisode Score: 13.620\tAverage Score: 11.554\n",
      "Episode 200\tEpisode Score: 16.660\tAverage Score: 11.618\n",
      "Episode 201\tEpisode Score: 15.430\tAverage Score: 11.682\n",
      "Episode 202\tEpisode Score: 7.980\tAverage Score: 11.693\n",
      "Episode 203\tEpisode Score: 17.030\tAverage Score: 11.772\n",
      "Episode 204\tEpisode Score: 17.500\tAverage Score: 11.841\n",
      "Episode 205\tEpisode Score: 19.990\tAverage Score: 11.933\n",
      "Episode 206\tEpisode Score: 10.810\tAverage Score: 11.948\n",
      "Episode 207\tEpisode Score: 14.230\tAverage Score: 12.045\n",
      "Episode 208\tEpisode Score: 12.590\tAverage Score: 12.112\n",
      "Episode 209\tEpisode Score: 15.430\tAverage Score: 12.188\n",
      "Episode 210\tEpisode Score: 17.960\tAverage Score: 12.274\n",
      "Episode 211\tEpisode Score: 17.410\tAverage Score: 12.338\n",
      "Episode 212\tEpisode Score: 14.050\tAverage Score: 12.372\n",
      "Episode 213\tEpisode Score: 13.100\tAverage Score: 12.444\n",
      "Episode 214\tEpisode Score: 9.330\tAverage Score: 12.434\n",
      "Episode 215\tEpisode Score: 18.490\tAverage Score: 12.549\n",
      "Episode 216\tEpisode Score: 17.940\tAverage Score: 12.659\n",
      "Episode 217\tEpisode Score: 16.660\tAverage Score: 12.697\n",
      "Episode 218\tEpisode Score: 20.150\tAverage Score: 12.794\n",
      "Episode 219\tEpisode Score: 21.400\tAverage Score: 12.935\n",
      "Episode 220\tEpisode Score: 20.290\tAverage Score: 13.050\n",
      "Episode 221\tEpisode Score: 16.470\tAverage Score: 13.100\n",
      "Episode 222\tEpisode Score: 24.270\tAverage Score: 13.259\n",
      "Episode 223\tEpisode Score: 17.010\tAverage Score: 13.312\n",
      "Episode 224\tEpisode Score: 19.620\tAverage Score: 13.421\n",
      "Episode 225\tEpisode Score: 16.120\tAverage Score: 13.453\n",
      "Episode 226\tEpisode Score: 16.110\tAverage Score: 13.535\n",
      "Episode 227\tEpisode Score: 8.130\tAverage Score: 13.483\n",
      "Episode 228\tEpisode Score: 19.260\tAverage Score: 13.564\n",
      "Episode 229\tEpisode Score: 7.970\tAverage Score: 13.563\n",
      "Episode 230\tEpisode Score: 16.950\tAverage Score: 13.662\n",
      "Episode 231\tEpisode Score: 20.890\tAverage Score: 13.796\n",
      "Episode 232\tEpisode Score: 30.450\tAverage Score: 13.996\n",
      "Episode 233\tEpisode Score: 23.090\tAverage Score: 14.094\n",
      "Episode 234\tEpisode Score: 18.000\tAverage Score: 14.149\n",
      "Episode 235\tEpisode Score: 10.780\tAverage Score: 14.165\n",
      "Episode 236\tEpisode Score: 19.990\tAverage Score: 14.232\n",
      "Episode 237\tEpisode Score: 21.360\tAverage Score: 14.333\n",
      "Episode 238\tEpisode Score: 17.780\tAverage Score: 14.350\n",
      "Episode 239\tEpisode Score: 17.640\tAverage Score: 14.440\n",
      "Episode 240\tEpisode Score: 21.510\tAverage Score: 14.522\n",
      "Episode 241\tEpisode Score: 14.380\tAverage Score: 14.566\n",
      "Episode 242\tEpisode Score: 15.120\tAverage Score: 14.585\n",
      "Episode 243\tEpisode Score: 16.960\tAverage Score: 14.650\n",
      "Episode 244\tEpisode Score: 20.740\tAverage Score: 14.784\n",
      "Episode 245\tEpisode Score: 11.800\tAverage Score: 14.808\n",
      "Episode 246\tEpisode Score: 21.020\tAverage Score: 14.866\n",
      "Episode 247\tEpisode Score: 22.050\tAverage Score: 14.966\n",
      "Episode 248\tEpisode Score: 17.360\tAverage Score: 15.031\n",
      "Episode 249\tEpisode Score: 11.990\tAverage Score: 15.037\n",
      "Episode 250\tEpisode Score: 21.230\tAverage Score: 15.150\n",
      "Episode 251\tEpisode Score: 14.230\tAverage Score: 15.116\n",
      "Episode 252\tEpisode Score: 6.270\tAverage Score: 15.035\n",
      "Episode 253\tEpisode Score: 21.110\tAverage Score: 15.173\n",
      "Episode 254\tEpisode Score: 29.410\tAverage Score: 15.309\n",
      "Episode 255\tEpisode Score: 16.930\tAverage Score: 15.432\n",
      "Episode 256\tEpisode Score: 9.900\tAverage Score: 15.449\n",
      "Episode 257\tEpisode Score: 21.940\tAverage Score: 15.607\n",
      "Episode 258\tEpisode Score: 19.490\tAverage Score: 15.703\n",
      "Episode 259\tEpisode Score: 17.620\tAverage Score: 15.726\n",
      "Episode 260\tEpisode Score: 12.820\tAverage Score: 15.729\n",
      "Episode 261\tEpisode Score: 23.470\tAverage Score: 15.861\n",
      "Episode 262\tEpisode Score: 13.470\tAverage Score: 15.830\n",
      "Episode 263\tEpisode Score: 36.510\tAverage Score: 16.075\n",
      "Episode 264\tEpisode Score: 22.760\tAverage Score: 16.161\n",
      "Episode 265\tEpisode Score: 20.850\tAverage Score: 16.224\n",
      "Episode 266\tEpisode Score: 17.470\tAverage Score: 16.278\n",
      "Episode 267\tEpisode Score: 14.620\tAverage Score: 16.259\n",
      "Episode 268\tEpisode Score: 30.620\tAverage Score: 16.421\n",
      "Episode 269\tEpisode Score: 21.980\tAverage Score: 16.534\n",
      "Episode 270\tEpisode Score: 12.270\tAverage Score: 16.510\n",
      "Episode 271\tEpisode Score: 26.890\tAverage Score: 16.640\n",
      "Episode 272\tEpisode Score: 21.010\tAverage Score: 16.692\n",
      "Episode 273\tEpisode Score: 22.690\tAverage Score: 16.805\n",
      "Episode 274\tEpisode Score: 10.760\tAverage Score: 16.828\n",
      "Episode 275\tEpisode Score: 14.030\tAverage Score: 16.860\n",
      "Episode 276\tEpisode Score: 15.340\tAverage Score: 16.894\n",
      "Episode 277\tEpisode Score: 26.470\tAverage Score: 17.063\n",
      "Episode 278\tEpisode Score: 20.860\tAverage Score: 17.165\n",
      "Episode 279\tEpisode Score: 21.770\tAverage Score: 17.220\n",
      "Episode 280\tEpisode Score: 24.550\tAverage Score: 17.283\n",
      "Episode 281\tEpisode Score: 20.880\tAverage Score: 17.337\n",
      "Episode 282\tEpisode Score: 18.640\tAverage Score: 17.428\n",
      "Episode 283\tEpisode Score: 23.430\tAverage Score: 17.517\n",
      "Episode 284\tEpisode Score: 24.860\tAverage Score: 17.615\n",
      "Episode 285\tEpisode Score: 16.310\tAverage Score: 17.663\n",
      "Episode 286\tEpisode Score: 21.120\tAverage Score: 17.721\n",
      "Episode 287\tEpisode Score: 26.840\tAverage Score: 17.850\n",
      "Episode 288\tEpisode Score: 15.080\tAverage Score: 17.847\n",
      "Episode 289\tEpisode Score: 7.260\tAverage Score: 17.739\n",
      "Episode 290\tEpisode Score: 18.390\tAverage Score: 17.774\n",
      "Episode 291\tEpisode Score: 8.020\tAverage Score: 17.639\n",
      "Episode 292\tEpisode Score: 17.970\tAverage Score: 17.681\n",
      "Episode 293\tEpisode Score: 15.420\tAverage Score: 17.669\n",
      "Episode 294\tEpisode Score: 18.570\tAverage Score: 17.716\n",
      "Episode 295\tEpisode Score: 25.160\tAverage Score: 17.874\n",
      "Episode 296\tEpisode Score: 10.790\tAverage Score: 17.783\n",
      "Episode 297\tEpisode Score: 12.100\tAverage Score: 17.819\n",
      "Episode 298\tEpisode Score: 16.960\tAverage Score: 17.900\n",
      "Episode 299\tEpisode Score: 19.100\tAverage Score: 17.955\n",
      "Episode 300\tEpisode Score: 24.910\tAverage Score: 18.037\n"
     ]
    },
    {
     "name": "stdout",
     "output_type": "stream",
     "text": [
      "Episode 301\tEpisode Score: 16.990\tAverage Score: 18.053\n",
      "Episode 302\tEpisode Score: 24.470\tAverage Score: 18.218\n",
      "Episode 303\tEpisode Score: 15.030\tAverage Score: 18.198\n",
      "Episode 304\tEpisode Score: 24.530\tAverage Score: 18.268\n",
      "Episode 305\tEpisode Score: 16.940\tAverage Score: 18.238\n",
      "Episode 306\tEpisode Score: 27.940\tAverage Score: 18.409\n",
      "Episode 307\tEpisode Score: 20.460\tAverage Score: 18.471\n",
      "Episode 308\tEpisode Score: 31.960\tAverage Score: 18.665\n",
      "Episode 309\tEpisode Score: 24.280\tAverage Score: 18.753\n",
      "Episode 310\tEpisode Score: 23.250\tAverage Score: 18.806\n",
      "Episode 311\tEpisode Score: 23.000\tAverage Score: 18.862\n",
      "Episode 312\tEpisode Score: 20.970\tAverage Score: 18.931\n",
      "Episode 313\tEpisode Score: 16.010\tAverage Score: 18.961\n",
      "Episode 314\tEpisode Score: 11.430\tAverage Score: 18.982\n",
      "Episode 315\tEpisode Score: 30.590\tAverage Score: 19.103\n",
      "Episode 316\tEpisode Score: 30.070\tAverage Score: 19.224\n",
      "Episode 317\tEpisode Score: 26.540\tAverage Score: 19.323\n",
      "Episode 318\tEpisode Score: 26.360\tAverage Score: 19.385\n",
      "Episode 319\tEpisode Score: 22.520\tAverage Score: 19.396\n",
      "Episode 320\tEpisode Score: 21.090\tAverage Score: 19.404\n",
      "Episode 321\tEpisode Score: 19.970\tAverage Score: 19.439\n",
      "Episode 322\tEpisode Score: 20.630\tAverage Score: 19.403\n",
      "Episode 323\tEpisode Score: 17.450\tAverage Score: 19.407\n",
      "Episode 324\tEpisode Score: 17.630\tAverage Score: 19.387\n",
      "Episode 325\tEpisode Score: 11.100\tAverage Score: 19.337\n",
      "Episode 326\tEpisode Score: 31.820\tAverage Score: 19.494\n",
      "Episode 327\tEpisode Score: 19.340\tAverage Score: 19.606\n",
      "Episode 328\tEpisode Score: 24.750\tAverage Score: 19.661\n",
      "Episode 329\tEpisode Score: 22.160\tAverage Score: 19.803\n",
      "Episode 330\tEpisode Score: 16.970\tAverage Score: 19.803\n",
      "Episode 331\tEpisode Score: 14.670\tAverage Score: 19.741\n",
      "Episode 332\tEpisode Score: 18.470\tAverage Score: 19.621\n",
      "Episode 333\tEpisode Score: 21.690\tAverage Score: 19.607\n",
      "Episode 334\tEpisode Score: 24.470\tAverage Score: 19.672\n",
      "Episode 335\tEpisode Score: 16.660\tAverage Score: 19.731\n",
      "Episode 336\tEpisode Score: 26.990\tAverage Score: 19.801\n",
      "Episode 337\tEpisode Score: 35.600\tAverage Score: 19.943\n",
      "Episode 338\tEpisode Score: 26.430\tAverage Score: 20.029\n",
      "Episode 339\tEpisode Score: 24.750\tAverage Score: 20.101\n",
      "Episode 340\tEpisode Score: 35.240\tAverage Score: 20.238\n",
      "Episode 341\tEpisode Score: 15.790\tAverage Score: 20.252\n",
      "Episode 342\tEpisode Score: 15.500\tAverage Score: 20.256\n",
      "Episode 343\tEpisode Score: 27.300\tAverage Score: 20.359\n",
      "Episode 344\tEpisode Score: 29.350\tAverage Score: 20.445\n",
      "Episode 345\tEpisode Score: 4.120\tAverage Score: 20.368\n",
      "Episode 346\tEpisode Score: 12.270\tAverage Score: 20.281\n",
      "Episode 347\tEpisode Score: 22.120\tAverage Score: 20.282\n",
      "Episode 348\tEpisode Score: 15.440\tAverage Score: 20.262\n",
      "Episode 349\tEpisode Score: 11.730\tAverage Score: 20.260\n",
      "Episode 350\tEpisode Score: 28.290\tAverage Score: 20.330\n",
      "Episode 351\tEpisode Score: 27.680\tAverage Score: 20.465\n",
      "Episode 352\tEpisode Score: 27.840\tAverage Score: 20.681\n",
      "Episode 353\tEpisode Score: 25.520\tAverage Score: 20.725\n",
      "Episode 354\tEpisode Score: 21.220\tAverage Score: 20.643\n",
      "Episode 355\tEpisode Score: 27.470\tAverage Score: 20.748\n",
      "Episode 356\tEpisode Score: 15.570\tAverage Score: 20.805\n",
      "Episode 357\tEpisode Score: 29.990\tAverage Score: 20.885\n",
      "Episode 358\tEpisode Score: 23.600\tAverage Score: 20.927\n",
      "Episode 359\tEpisode Score: 26.270\tAverage Score: 21.013\n",
      "Episode 360\tEpisode Score: 18.190\tAverage Score: 21.067\n",
      "Episode 361\tEpisode Score: 32.930\tAverage Score: 21.161\n",
      "Episode 362\tEpisode Score: 28.400\tAverage Score: 21.311\n",
      "Episode 363\tEpisode Score: 21.380\tAverage Score: 21.159\n",
      "Episode 364\tEpisode Score: 28.770\tAverage Score: 21.219\n",
      "Episode 365\tEpisode Score: 21.940\tAverage Score: 21.230\n",
      "Episode 366\tEpisode Score: 29.750\tAverage Score: 21.353\n",
      "Episode 367\tEpisode Score: 6.530\tAverage Score: 21.272\n",
      "Episode 368\tEpisode Score: 16.600\tAverage Score: 21.132\n",
      "Episode 369\tEpisode Score: 29.320\tAverage Score: 21.205\n",
      "Episode 370\tEpisode Score: 15.010\tAverage Score: 21.233\n",
      "Episode 371\tEpisode Score: 20.400\tAverage Score: 21.168\n",
      "Episode 372\tEpisode Score: 14.740\tAverage Score: 21.105\n",
      "Episode 373\tEpisode Score: 13.810\tAverage Score: 21.016\n",
      "Episode 374\tEpisode Score: 27.210\tAverage Score: 21.181\n",
      "Episode 375\tEpisode Score: 26.020\tAverage Score: 21.301\n",
      "Episode 376\tEpisode Score: 30.190\tAverage Score: 21.449\n",
      "Episode 377\tEpisode Score: 13.290\tAverage Score: 21.318\n",
      "Episode 378\tEpisode Score: 18.800\tAverage Score: 21.297\n",
      "Episode 379\tEpisode Score: 21.520\tAverage Score: 21.294\n",
      "Episode 380\tEpisode Score: 15.670\tAverage Score: 21.206\n",
      "Episode 381\tEpisode Score: 15.410\tAverage Score: 21.151\n",
      "Episode 382\tEpisode Score: 9.080\tAverage Score: 21.055\n",
      "Episode 383\tEpisode Score: 19.090\tAverage Score: 21.012\n",
      "Episode 384\tEpisode Score: 27.210\tAverage Score: 21.035\n",
      "Episode 385\tEpisode Score: 25.740\tAverage Score: 21.130\n",
      "Episode 386\tEpisode Score: 38.930\tAverage Score: 21.308\n",
      "Episode 387\tEpisode Score: 31.790\tAverage Score: 21.357\n",
      "Episode 388\tEpisode Score: 20.680\tAverage Score: 21.413\n",
      "Episode 389\tEpisode Score: 31.390\tAverage Score: 21.655\n",
      "Episode 390\tEpisode Score: 28.120\tAverage Score: 21.752\n",
      "Episode 391\tEpisode Score: 28.040\tAverage Score: 21.952\n",
      "Episode 392\tEpisode Score: 25.520\tAverage Score: 22.028\n",
      "Episode 393\tEpisode Score: 26.390\tAverage Score: 22.137\n",
      "Episode 394\tEpisode Score: 23.880\tAverage Score: 22.190\n",
      "Episode 395\tEpisode Score: 27.960\tAverage Score: 22.218\n",
      "Episode 396\tEpisode Score: 15.270\tAverage Score: 22.263\n",
      "Episode 397\tEpisode Score: 20.380\tAverage Score: 22.346\n",
      "Episode 398\tEpisode Score: 17.880\tAverage Score: 22.355\n",
      "Episode 399\tEpisode Score: 27.510\tAverage Score: 22.439\n",
      "Episode 400\tEpisode Score: 28.540\tAverage Score: 22.476\n",
      "Episode 401\tEpisode Score: 24.840\tAverage Score: 22.554\n",
      "Episode 402\tEpisode Score: 21.680\tAverage Score: 22.526\n",
      "Episode 403\tEpisode Score: 18.940\tAverage Score: 22.565\n",
      "Episode 404\tEpisode Score: 22.910\tAverage Score: 22.549\n",
      "Episode 405\tEpisode Score: 10.060\tAverage Score: 22.480\n",
      "Episode 406\tEpisode Score: 36.060\tAverage Score: 22.562\n",
      "Episode 407\tEpisode Score: 22.520\tAverage Score: 22.582\n",
      "Episode 408\tEpisode Score: 31.220\tAverage Score: 22.575\n",
      "Episode 409\tEpisode Score: 31.560\tAverage Score: 22.648\n",
      "Episode 410\tEpisode Score: 29.040\tAverage Score: 22.705\n",
      "Episode 411\tEpisode Score: 10.140\tAverage Score: 22.577\n",
      "Episode 412\tEpisode Score: 38.630\tAverage Score: 22.753\n",
      "Episode 413\tEpisode Score: 27.810\tAverage Score: 22.871\n",
      "Episode 414\tEpisode Score: 24.530\tAverage Score: 23.002\n",
      "Episode 415\tEpisode Score: 26.920\tAverage Score: 22.966\n",
      "Episode 416\tEpisode Score: 26.180\tAverage Score: 22.927\n",
      "Episode 417\tEpisode Score: 36.680\tAverage Score: 23.028\n",
      "Episode 418\tEpisode Score: 34.030\tAverage Score: 23.105\n",
      "Episode 419\tEpisode Score: 25.740\tAverage Score: 23.137\n",
      "Episode 420\tEpisode Score: 24.510\tAverage Score: 23.171\n",
      "Episode 421\tEpisode Score: 19.090\tAverage Score: 23.163\n",
      "Episode 422\tEpisode Score: 21.290\tAverage Score: 23.169\n",
      "Episode 423\tEpisode Score: 12.600\tAverage Score: 23.121\n",
      "Episode 424\tEpisode Score: 13.990\tAverage Score: 23.084\n",
      "Episode 425\tEpisode Score: 32.740\tAverage Score: 23.301\n",
      "Episode 426\tEpisode Score: 11.330\tAverage Score: 23.096\n",
      "Episode 427\tEpisode Score: 36.390\tAverage Score: 23.266\n",
      "Episode 428\tEpisode Score: 11.730\tAverage Score: 23.136\n",
      "Episode 429\tEpisode Score: 15.590\tAverage Score: 23.070\n",
      "Episode 430\tEpisode Score: 31.010\tAverage Score: 23.211\n",
      "Episode 431\tEpisode Score: 9.710\tAverage Score: 23.161\n",
      "Episode 432\tEpisode Score: 14.790\tAverage Score: 23.124\n",
      "Episode 433\tEpisode Score: 22.750\tAverage Score: 23.135\n",
      "Episode 434\tEpisode Score: 20.620\tAverage Score: 23.096\n",
      "Episode 435\tEpisode Score: 27.870\tAverage Score: 23.209\n",
      "Episode 436\tEpisode Score: 16.140\tAverage Score: 23.100\n",
      "Episode 437\tEpisode Score: 20.650\tAverage Score: 22.951\n",
      "Episode 438\tEpisode Score: 15.420\tAverage Score: 22.840\n",
      "Episode 439\tEpisode Score: 22.500\tAverage Score: 22.818\n",
      "Episode 440\tEpisode Score: 7.950\tAverage Score: 22.545\n",
      "Episode 441\tEpisode Score: 12.670\tAverage Score: 22.514\n",
      "Episode 442\tEpisode Score: 23.130\tAverage Score: 22.590\n",
      "Episode 443\tEpisode Score: 23.550\tAverage Score: 22.553\n",
      "Episode 444\tEpisode Score: 17.580\tAverage Score: 22.435\n",
      "Episode 445\tEpisode Score: 33.110\tAverage Score: 22.725\n",
      "Episode 446\tEpisode Score: 21.670\tAverage Score: 22.819\n"
     ]
    },
    {
     "name": "stdout",
     "output_type": "stream",
     "text": [
      "Episode 447\tEpisode Score: 11.400\tAverage Score: 22.712\n",
      "Episode 448\tEpisode Score: 11.020\tAverage Score: 22.667\n",
      "Episode 449\tEpisode Score: 10.010\tAverage Score: 22.650\n",
      "Episode 450\tEpisode Score: 15.120\tAverage Score: 22.519\n",
      "Episode 451\tEpisode Score: 16.470\tAverage Score: 22.406\n",
      "Episode 452\tEpisode Score: 21.240\tAverage Score: 22.340\n",
      "Episode 453\tEpisode Score: 14.050\tAverage Score: 22.226\n",
      "Episode 454\tEpisode Score: 20.920\tAverage Score: 22.223\n",
      "Episode 455\tEpisode Score: 21.060\tAverage Score: 22.159\n",
      "Episode 456\tEpisode Score: 5.550\tAverage Score: 22.058\n",
      "Episode 457\tEpisode Score: 17.560\tAverage Score: 21.934\n",
      "Episode 458\tEpisode Score: 7.530\tAverage Score: 21.773\n",
      "Episode 459\tEpisode Score: 20.850\tAverage Score: 21.719\n",
      "Episode 460\tEpisode Score: 34.330\tAverage Score: 21.881\n",
      "Episode 461\tEpisode Score: 10.190\tAverage Score: 21.653\n",
      "Episode 462\tEpisode Score: 29.010\tAverage Score: 21.659\n",
      "Episode 463\tEpisode Score: 10.590\tAverage Score: 21.551\n",
      "Episode 464\tEpisode Score: 10.520\tAverage Score: 21.369\n",
      "Episode 465\tEpisode Score: 31.020\tAverage Score: 21.460\n",
      "Episode 466\tEpisode Score: 20.390\tAverage Score: 21.366\n",
      "Episode 467\tEpisode Score: 27.850\tAverage Score: 21.579\n",
      "Episode 468\tEpisode Score: 4.330\tAverage Score: 21.457\n",
      "Episode 469\tEpisode Score: 16.180\tAverage Score: 21.325\n",
      "Episode 470\tEpisode Score: 9.790\tAverage Score: 21.273\n",
      "Episode 471\tEpisode Score: 18.720\tAverage Score: 21.256\n",
      "Episode 472\tEpisode Score: 17.430\tAverage Score: 21.283\n",
      "Episode 473\tEpisode Score: 23.360\tAverage Score: 21.379\n",
      "Episode 474\tEpisode Score: 9.660\tAverage Score: 21.203\n",
      "Episode 475\tEpisode Score: 28.730\tAverage Score: 21.230\n",
      "Episode 476\tEpisode Score: 14.740\tAverage Score: 21.076\n",
      "Episode 477\tEpisode Score: 33.540\tAverage Score: 21.278\n",
      "Episode 478\tEpisode Score: 11.180\tAverage Score: 21.202\n",
      "Episode 479\tEpisode Score: 30.470\tAverage Score: 21.292\n",
      "Episode 480\tEpisode Score: 21.980\tAverage Score: 21.355\n",
      "Episode 481\tEpisode Score: 18.160\tAverage Score: 21.382\n",
      "Episode 482\tEpisode Score: 13.530\tAverage Score: 21.427\n",
      "Episode 483\tEpisode Score: 27.350\tAverage Score: 21.509\n",
      "Episode 484\tEpisode Score: 5.000\tAverage Score: 21.287\n",
      "Episode 485\tEpisode Score: 32.370\tAverage Score: 21.353\n",
      "Episode 486\tEpisode Score: 17.970\tAverage Score: 21.144\n",
      "Episode 487\tEpisode Score: 19.450\tAverage Score: 21.020\n",
      "Episode 488\tEpisode Score: 30.040\tAverage Score: 21.114\n",
      "Episode 489\tEpisode Score: 29.820\tAverage Score: 21.098\n",
      "Episode 490\tEpisode Score: 21.080\tAverage Score: 21.028\n",
      "Episode 491\tEpisode Score: 22.650\tAverage Score: 20.974\n",
      "Episode 492\tEpisode Score: 30.130\tAverage Score: 21.020\n",
      "Episode 493\tEpisode Score: 25.000\tAverage Score: 21.006\n",
      "Episode 494\tEpisode Score: 32.070\tAverage Score: 21.088\n",
      "Episode 495\tEpisode Score: 36.800\tAverage Score: 21.177\n",
      "Episode 496\tEpisode Score: 29.530\tAverage Score: 21.319\n",
      "Episode 497\tEpisode Score: 33.120\tAverage Score: 21.447\n",
      "Episode 498\tEpisode Score: 10.480\tAverage Score: 21.373\n",
      "Episode 499\tEpisode Score: 15.470\tAverage Score: 21.252\n",
      "Episode 500\tEpisode Score: 20.060\tAverage Score: 21.167\n",
      "Episode 501\tEpisode Score: 22.790\tAverage Score: 21.147\n",
      "Episode 502\tEpisode Score: 18.170\tAverage Score: 21.112\n",
      "Episode 503\tEpisode Score: 26.940\tAverage Score: 21.192\n",
      "Episode 504\tEpisode Score: 24.160\tAverage Score: 21.204\n",
      "Episode 505\tEpisode Score: 17.780\tAverage Score: 21.281\n",
      "Episode 506\tEpisode Score: 32.190\tAverage Score: 21.243\n",
      "Episode 507\tEpisode Score: 19.510\tAverage Score: 21.213\n",
      "Episode 508\tEpisode Score: 30.040\tAverage Score: 21.201\n",
      "Episode 509\tEpisode Score: 13.180\tAverage Score: 21.017\n",
      "Episode 510\tEpisode Score: 15.330\tAverage Score: 20.880\n",
      "Episode 511\tEpisode Score: 21.240\tAverage Score: 20.991\n",
      "Episode 512\tEpisode Score: 18.600\tAverage Score: 20.791\n",
      "Episode 513\tEpisode Score: 6.290\tAverage Score: 20.575\n",
      "Episode 514\tEpisode Score: 20.870\tAverage Score: 20.539\n",
      "Episode 515\tEpisode Score: 16.920\tAverage Score: 20.439\n",
      "Episode 516\tEpisode Score: 22.820\tAverage Score: 20.405\n",
      "Episode 517\tEpisode Score: 13.540\tAverage Score: 20.174\n",
      "Episode 518\tEpisode Score: 16.570\tAverage Score: 19.999"
     ]
    }
   ],
   "source": [
    "def ddpg(n_episodes=1000, print_every=100):\n",
    "    # loop from n_episodes\n",
    "    for i_episode in range(1, n_episodes+1):\n",
    "\n",
    "        # reset the unity environment at the beginning of each episode\n",
    "        env_info = env.reset(train_mode=True)[brain_name]     \n",
    "\n",
    "        # get initial state of the unity environment \n",
    "        states = env_info.vector_observations\n",
    "\n",
    "        # reset the training agent for new episode\n",
    "        agent.reset()\n",
    "\n",
    "        # set the initial episode score to zero.\n",
    "        agent_scores = np.zeros(num_agents)\n",
    "\n",
    "        # Run the episode training loop;\n",
    "        # At each loop step take an action as a function of the current state observations\n",
    "        # Based on the resultant environmental state (next_state) and reward received update the Agents Actor and Critic networks\n",
    "        # If environment episode is done, exit loop...\n",
    "        # Otherwise repeat until done == true \n",
    "        while True:\n",
    "            # determine actions for the unity agents from current sate\n",
    "            actions = agent.act(states)\n",
    "\n",
    "            # send the actions to the unity agents in the environment and receive resultant environment information\n",
    "            env_info = env.step(actions)[brain_name]        \n",
    "\n",
    "            next_states = env_info.vector_observations   # get the next states for each unity agent in the environment\n",
    "            rewards = env_info.rewards                   # get the rewards for each unity agent in the environment\n",
    "            dones = env_info.local_done                  # see if episode has finished for each unity agent in the environment\n",
    "\n",
    "            #Send (S, A, R, S') info to the training agent for replay buffer (memory) and network updates\n",
    "            agent.step(states, actions, rewards, next_states, dones)\n",
    "\n",
    "            # set new states to current states for determining next actions\n",
    "            states = next_states\n",
    "\n",
    "            # Update episode score for each unity agent\n",
    "            agent_scores += rewards\n",
    "\n",
    "            # If any unity agent indicates that the episode is done, \n",
    "            # then exit episode loop, to begin new episode\n",
    "            if np.any(dones):\n",
    "                break\n",
    "\n",
    "        # Add episode score to Scores and...\n",
    "        # Calculate mean score over last 100 episodes \n",
    "        # Mean score is calculated over current episodes until i_episode > 100\n",
    "        episode_scores.append(np.mean(agent_scores))\n",
    "        average_score = np.mean(episode_scores[i_episode-min(i_episode,scores_average_window):i_episode+1])\n",
    "\n",
    "        #Print current and average score\n",
    "        print('\\nEpisode {}\\tEpisode Score: {:.3f}\\tAverage Score: {:.3f}'.format(i_episode, episode_scores[i_episode-1], average_score), end=\"\")\n",
    "\n",
    "        # Save trained  Actor and Critic network weights after each episode\n",
    "        an_filename = \"checkpoint_actor.pth\"\n",
    "        torch.save(agent.actor_local.state_dict(), an_filename)\n",
    "        cn_filename = \"checkpoint_critic.pth\"\n",
    "        torch.save(agent.critic_local.state_dict(), cn_filename)\n",
    "\n",
    "        # Check to see if the task is solved (i.e,. avearge_score > solved_score over 100 episodes). \n",
    "        # If yes, save the network weights and scores and end training.\n",
    "        if i_episode > 100 and average_score >= solved_score:\n",
    "            print('\\nEnvironment solved in {:d} episodes!\\tAverage Score: {:.3f}'.format(i_episode, average_score))\n",
    "            break\n",
    "    return episode_scores\n",
    "\n",
    "scores = ddpg(n_episodes=num_episodes)"
   ]
  },
  {
   "cell_type": "markdown",
   "metadata": {},
   "source": [
    "### Plot the Scores"
   ]
  },
  {
   "cell_type": "code",
   "execution_count": null,
   "metadata": {},
   "outputs": [],
   "source": [
    "fig = plt.figure()\n",
    "ax = fig.add_subplot(111)\n",
    "plt.plot(np.arange(1, len(scores)+1), scores)\n",
    "plt.ylabel('Score')\n",
    "plt.xlabel('Episode #')\n",
    "plt.show()"
   ]
  },
  {
   "cell_type": "markdown",
   "metadata": {},
   "source": [
    "### 7. Watch the DDPG Agent!\n",
    "\n",
    "In the next code cell, you will load the trained weights from file to watch a the vanilla DDPG Agent!"
   ]
  },
  {
   "cell_type": "code",
   "execution_count": null,
   "metadata": {},
   "outputs": [],
   "source": [
    "# load the weights from file\n",
    "agent.actor_local.load_state_dict(torch.load('checkpoint_actor.pth'))\n",
    "agent.critic_local.load_state_dict(torch.load('checkpoint_critic.pth'))\n",
    "\n",
    "for i_episode in range(1, num_episodes+1):\n",
    "\n",
    "    # reset the unity environment at the beginning of each episode\n",
    "    # set train mode to false\n",
    "    env_info = env.reset(train_mode=False)[brain_name]     \n",
    "\n",
    "    # get initial state of the unity environment \n",
    "    states = env_info.vector_observations\n",
    "\n",
    "    # reset the training agent for new episode\n",
    "    agent.reset()\n",
    "\n",
    "    # set the initial episode scores to zero for each unity agent.\n",
    "    scores = np.zeros(num_agents)\n",
    "\n",
    "    # Run the episode loop;\n",
    "    # At each loop step take an action as a function of the current state observations\n",
    "    # If environment episode is done, exit loop...\n",
    "    # Otherwise repeat until done == true \n",
    "    while True:\n",
    "        # determine actions for the unity agents from current sate\n",
    "        actions = agent.act(states)\n",
    "\n",
    "        # send the actions to the unity agents in the environment and receive resultant environment information\n",
    "        env_info = env.step(actions)[brain_name]        \n",
    "\n",
    "        next_states = env_info.vector_observations   # get the next states for each unity agent in the environment\n",
    "        rewards = env_info.rewards                   # get the rewards for each unity agent in the environment\n",
    "        dones = env_info.local_done                  # see if episode has finished for each unity agent in the environment\n",
    "\n",
    "        # set new states to current states for determining next actions\n",
    "        states = next_states\n",
    "\n",
    "        # Update episode score for each unity agent\n",
    "        scores += rewards\n",
    "\n",
    "        # If any unity agent indicates that the episode is done, \n",
    "        # then exit episode loop, to begin new episode\n",
    "        if np.any(dones):\n",
    "            break\n",
    "\n",
    "    # Print current average score\n",
    "    print('\\nEpisode {}\\tAverage Score: {:.2f}'.format(i_episode, np.mean(scores), end=\"\"))"
   ]
  },
  {
   "cell_type": "code",
   "execution_count": null,
   "metadata": {},
   "outputs": [],
   "source": [
    "env.close()"
   ]
  },
  {
   "attachments": {},
   "cell_type": "markdown",
   "metadata": {},
   "source": [
    "## Future Work\n",
    "\n",
    "### 1. Explore the current DDPG Algorithm\n",
    "\n",
    "    * Amend the various hyperparameters and network architecture to see if we can get your agent to solve the environment faster. \n",
    "    * Once we build intuition for the hyperparameters that work well with this environment, try solving a different Unity ML-Agents task like [Crawler](https://github.com/Unity-Technologies/ml-agents/blob/master/docs/Learning-Environment-Examples.md#crawler).\n",
    "\n",
    "### 2. Explore the other PG Algorithm\n",
    "    * We are interested in implementing a method that will be more stable with this project, so we will explore [this paper \"Benchmarking Deep Reinforcement Learning for Continuous Control\"](https://arxiv.org/abs/1604.06778)\n",
    "    * We would like to implement some improvements such as ...\n",
    "        - [Trust Region Policy Optimization (TRPO)](https://arxiv.org/abs/1502.05477)\n",
    "        - Truncated Natural Policy Gradient (TNPG)\n",
    "        - [Proximal Policy Optimization (PPO)](https://blog.openai.com/openai-baselines-ppo/)\n",
    "        - [Distributed Distributional Deterministic Policy Gradients (D4PG) ](https://arxiv.org/abs/1602.01783)\n",
    "\n",
    "![Performance Comparison](assets/benchmark-DRL-ContinousControl.png)"
   ]
  },
  {
   "cell_type": "code",
   "execution_count": null,
   "metadata": {},
   "outputs": [],
   "source": []
  }
 ],
 "metadata": {
  "kernelspec": {
   "display_name": "Python 3",
   "language": "python",
   "name": "python3"
  },
  "language_info": {
   "codemirror_mode": {
    "name": "ipython",
    "version": 3
   },
   "file_extension": ".py",
   "mimetype": "text/x-python",
   "name": "python",
   "nbconvert_exporter": "python",
   "pygments_lexer": "ipython3",
   "version": "3.6.7"
  }
 },
 "nbformat": 4,
 "nbformat_minor": 2
}
